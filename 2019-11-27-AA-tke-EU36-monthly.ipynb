{
 "cells": [
  {
   "cell_type": "code",
   "execution_count": 1,
   "metadata": {},
   "outputs": [
    {
     "name": "stderr",
     "output_type": "stream",
     "text": [
      "/scratch/cnt0024/hmg2840/albert7a/anaconda3/lib/python3.7/site-packages/dask/config.py:168: YAMLLoadWarning: calling yaml.load() without Loader=... is deprecated, as the default Loader is unsafe. Please read https://msg.pyyaml.org/load for full details.\n",
      "  data = yaml.load(f.read()) or {}\n",
      "/scratch/cnt0024/hmg2840/albert7a/anaconda3/lib/python3.7/site-packages/distributed/bokeh/core.py:74: UserWarning: \n",
      "Failed to start diagnostics server on port 8787. [Errno 13] Permission denied\n",
      "  warnings.warn(\"\\n\" + msg)\n",
      "distributed.utils - ERROR - Command exited with non-zero exit code.\n",
      "Exit code: 1\n",
      "Command:\n",
      "sbatch /tmp/tmpbz179li9.sh\n",
      "stdout:\n",
      "\n",
      "stderr:\n",
      "sbatch: error: fs quota exceeded, job not submitted. Suppress all unnecessary files present and submit your job again.\n",
      "sbatch: error: Batch job submission failed: Unexpected message received\n",
      "\n",
      "Traceback (most recent call last):\n",
      "  File \"/scratch/cnt0024/hmg2840/albert7a/anaconda3/lib/python3.7/site-packages/distributed/utils.py\", line 713, in log_errors\n",
      "    yield\n",
      "  File \"/scratch/cnt0024/hmg2840/albert7a/anaconda3/lib/python3.7/site-packages/dask_jobqueue/deploy/cluster_manager.py\", line 173, in _scale\n",
      "    self.scale_up(n)\n",
      "  File \"/scratch/cnt0024/hmg2840/albert7a/anaconda3/lib/python3.7/site-packages/dask_jobqueue/core.py\", line 468, in scale_up\n",
      "    self.start_workers(n - active_and_pending)\n",
      "  File \"/scratch/cnt0024/hmg2840/albert7a/anaconda3/lib/python3.7/site-packages/dask_jobqueue/core.py\", line 380, in start_workers\n",
      "    out = self._submit_job(fn)\n",
      "  File \"/scratch/cnt0024/hmg2840/albert7a/anaconda3/lib/python3.7/site-packages/dask_jobqueue/core.py\", line 372, in _submit_job\n",
      "    return self._call(shlex.split(self.submit_command) + [script_filename])\n",
      "  File \"/scratch/cnt0024/hmg2840/albert7a/anaconda3/lib/python3.7/site-packages/dask_jobqueue/core.py\", line 434, in _call\n",
      "    \"stderr:\\n{}\\n\".format(proc.returncode, cmd_str, out, err)\n",
      "RuntimeError: Command exited with non-zero exit code.\n",
      "Exit code: 1\n",
      "Command:\n",
      "sbatch /tmp/tmpbz179li9.sh\n",
      "stdout:\n",
      "\n",
      "stderr:\n",
      "sbatch: error: fs quota exceeded, job not submitted. Suppress all unnecessary files present and submit your job again.\n",
      "sbatch: error: Batch job submission failed: Unexpected message received\n",
      "\n",
      "\n",
      "tornado.application - ERROR - Exception in callback functools.partial(<bound method IOLoop._discard_future_result of <zmq.eventloop.ioloop.ZMQIOLoop object at 0x2b17c7ed0c18>>, <Future finished exception=RuntimeError('Command exited with non-zero exit code.\\nExit code: 1\\nCommand:\\nsbatch /tmp/tmpbz179li9.sh\\nstdout:\\n\\nstderr:\\nsbatch: error: fs quota exceeded, job not submitted. Suppress all unnecessary files present and submit your job again.\\nsbatch: error: Batch job submission failed: Unexpected message received\\n\\n')>)\n",
      "Traceback (most recent call last):\n",
      "  File \"/scratch/cnt0024/hmg2840/albert7a/anaconda3/lib/python3.7/site-packages/tornado/ioloop.py\", line 743, in _run_callback\n",
      "    ret = callback()\n",
      "  File \"/scratch/cnt0024/hmg2840/albert7a/anaconda3/lib/python3.7/site-packages/tornado/ioloop.py\", line 767, in _discard_future_result\n",
      "    future.result()\n",
      "  File \"/scratch/cnt0024/hmg2840/albert7a/anaconda3/lib/python3.7/site-packages/tornado/gen.py\", line 209, in wrapper\n",
      "    yielded = next(result)\n",
      "  File \"/scratch/cnt0024/hmg2840/albert7a/anaconda3/lib/python3.7/site-packages/dask_jobqueue/deploy/cluster_manager.py\", line 173, in _scale\n",
      "    self.scale_up(n)\n",
      "  File \"/scratch/cnt0024/hmg2840/albert7a/anaconda3/lib/python3.7/site-packages/dask_jobqueue/core.py\", line 468, in scale_up\n",
      "    self.start_workers(n - active_and_pending)\n",
      "  File \"/scratch/cnt0024/hmg2840/albert7a/anaconda3/lib/python3.7/site-packages/dask_jobqueue/core.py\", line 380, in start_workers\n",
      "    out = self._submit_job(fn)\n",
      "  File \"/scratch/cnt0024/hmg2840/albert7a/anaconda3/lib/python3.7/site-packages/dask_jobqueue/core.py\", line 372, in _submit_job\n",
      "    return self._call(shlex.split(self.submit_command) + [script_filename])\n",
      "  File \"/scratch/cnt0024/hmg2840/albert7a/anaconda3/lib/python3.7/site-packages/dask_jobqueue/core.py\", line 434, in _call\n",
      "    \"stderr:\\n{}\\n\".format(proc.returncode, cmd_str, out, err)\n",
      "RuntimeError: Command exited with non-zero exit code.\n",
      "Exit code: 1\n",
      "Command:\n",
      "sbatch /tmp/tmpbz179li9.sh\n",
      "stdout:\n",
      "\n",
      "stderr:\n",
      "sbatch: error: fs quota exceeded, job not submitted. Suppress all unnecessary files present and submit your job again.\n",
      "sbatch: error: Batch job submission failed: Unexpected message received\n",
      "\n",
      "\n"
     ]
    },
    {
     "data": {
      "application/vnd.jupyter.widget-view+json": {
       "model_id": "61c50f5838f74f988ee93a0aced3f2d3",
       "version_major": 2,
       "version_minor": 0
      },
      "text/plain": [
       "VBox(children=(HTML(value='<h2>SLURMCluster</h2>'), HBox(children=(HTML(value='\\n<div>\\n  <style scoped>\\n    …"
      ]
     },
     "metadata": {},
     "output_type": "display_data"
    }
   ],
   "source": [
    "from dask_jobqueue import SLURMCluster \n",
    "from dask.distributed import Client \n",
    "  \n",
    "cluster = SLURMCluster(cores=28,name='make_profiles',walltime='00:30:00',job_extra=['--constraint=HSW24','--exclusive','--nodes=1'],memory='120GB',interface='ib0') \n",
    "cluster.scale(196)\n",
    "cluster"
   ]
  },
  {
   "cell_type": "code",
   "execution_count": 2,
   "metadata": {},
   "outputs": [
    {
     "data": {
      "text/html": [
       "<table style=\"border: 2px solid white;\">\n",
       "<tr>\n",
       "<td style=\"vertical-align: top; border: 0px solid white\">\n",
       "<h3>Client</h3>\n",
       "<ul>\n",
       "  <li><b>Scheduler: </b>tcp://172.30.100.4:36159\n",
       "  <li><b>Dashboard: </b><a href='http://172.30.100.4:39830/status' target='_blank'>http://172.30.100.4:39830/status</a>\n",
       "</ul>\n",
       "</td>\n",
       "<td style=\"vertical-align: top; border: 0px solid white\">\n",
       "<h3>Cluster</h3>\n",
       "<ul>\n",
       "  <li><b>Workers: </b>0</li>\n",
       "  <li><b>Cores: </b>0</li>\n",
       "  <li><b>Memory: </b>0 B</li>\n",
       "</ul>\n",
       "</td>\n",
       "</tr>\n",
       "</table>"
      ],
      "text/plain": [
       "<Client: scheduler='tcp://172.30.100.4:36159' processes=0 cores=0>"
      ]
     },
     "execution_count": 2,
     "metadata": {},
     "output_type": "execute_result"
    }
   ],
   "source": [
    "from dask.distributed import Client\n",
    "client = Client(cluster)\n",
    "client"
   ]
  },
  {
   "cell_type": "code",
   "execution_count": 3,
   "metadata": {},
   "outputs": [
    {
     "name": "stdout",
     "output_type": "stream",
     "text": [
      "             JOBID PARTITION     NAME     USER ST       TIME  NODES NODELIST(REASON)\r\n"
     ]
    }
   ],
   "source": [
    "!squeue -u albert7a"
   ]
  },
  {
   "cell_type": "code",
   "execution_count": null,
   "metadata": {},
   "outputs": [],
   "source": [
    "import time\n",
    "nb_workers = 0\n",
    "while True:\n",
    "    nb_workers = len(client.scheduler_info()[\"workers\"])\n",
    "    if nb_workers >= 2:\n",
    "        break\n",
    "    time.sleep(1)\n",
    "print(nb_workers)"
   ]
  },
  {
   "cell_type": "code",
   "execution_count": null,
   "metadata": {},
   "outputs": [],
   "source": [
    "import os\n",
    "import sys\n",
    "import numpy as np\n",
    "import numpy.ma as ma\n",
    "import xarray as xr\n",
    "import matplotlib.pyplot as plt\n",
    "import matplotlib.ticker as mticker\n",
    "import cartopy.crs as ccrs\n",
    "from cartopy.mpl.gridliner import LONGITUDE_FORMATTER, LATITUDE_FORMATTER\n",
    "import cartopy.feature as cfeature\n",
    "import cmocean\n",
    "import glob\n",
    "\n",
    "%matplotlib inline\n"
   ]
  },
  {
   "cell_type": "code",
   "execution_count": null,
   "metadata": {},
   "outputs": [],
   "source": [
    "config='EU36'\n",
    "case='MPC002'\n",
    "freq='1d'\n",
    "year='2010'\n",
    "\n",
    "#!ls $datadir\n",
    "gridfile='/scratch/cnt0024/hmg2840/albert7a/GS36.L75/GS36.L75-I/GS36_coordinates.nc'\n",
    "maskfile='/scratch/cnt0024/hmg2840/albert7a/GS36.L75/GS36.L75-I/GS36.L75-MAA007_mesh_mask.nc'"
   ]
  },
  {
   "cell_type": "code",
   "execution_count": null,
   "metadata": {},
   "outputs": [],
   "source": [
    "dsgrid=xr.open_dataset(gridfile)\n",
    "dsmask=xr.open_dataset(maskfile)"
   ]
  },
  {
   "cell_type": "code",
   "execution_count": null,
   "metadata": {},
   "outputs": [],
   "source": [
    "def compute_TKE(u2mean,v2mean):\n",
    "    ua=0.5*(u2mean+u2mean.shift(x=1))\n",
    "    va=0.5*(v2mean+v2mean.shift(y=1))\n",
    "    uat=ua.rename({'depthu':'deptht'})\n",
    "    vat=va.rename({'depthv':'deptht'})\n",
    "    tke=0.5*(uat+vat)\n",
    "    return tke\n"
   ]
  },
  {
   "cell_type": "code",
   "execution_count": null,
   "metadata": {},
   "outputs": [],
   "source": [
    "month_name={1:'January',2:'February',3:'March',4:'April',5:'May',6:'June',7:'July',8:'August',9:'September',10:'October',11:'November',12:'December'}\n",
    "def plot_one_month(var,vmin,vmax,cmap,title,figfile,month,year):\n",
    "    fig, ax = plt.subplots(1,1,figsize=(10,15))\n",
    "    var.plot(cmap=cmap,ax=ax,vmin=vmin,vmax=vmax,add_labels=True)\n",
    "    ax.set_title(month_name[month])\n",
    "    fig.suptitle('Monthly mean of '+str(title))\n",
    "    plt.savefig('Plots/'+config+'/Maps/'+config+'-'+case+'y'+str(year)+'m'+str(month)+'_'+figfile+'.png')"
   ]
  },
  {
   "cell_type": "code",
   "execution_count": null,
   "metadata": {
    "scrolled": false
   },
   "outputs": [],
   "source": [
    "def process(year):\n",
    "    datadir='/scratch/cnt0024/hmg2840/colombo/'+str(config)+'/'+str(config)+'-'+str(case)+'-S/'+str(freq)+'/'+str(year)+'/'\n",
    "    filesU=sorted(glob.glob(datadir+'/'+str(config)+'-'+str(case)+'_y'+str(year)+'m??d??.'+str(freq)+'_gridU.nc'))\n",
    "    filesV=sorted(glob.glob(datadir+'/'+str(config)+'-'+str(case)+'_y'+str(year)+'m??d??.'+str(freq)+'_gridV.nc'))\n",
    "    dsU=xr.open_mfdataset(filesU, chunks={'x':700,'y':1000,'time_counter':10,'depthu':1})\n",
    "    dsV=xr.open_mfdataset(filesV, chunks={'x':700,'y':1000,'time_counter':10,'depthv':1})\n",
    "    u=dsU.vozocrtx\n",
    "    v=dsV.vomecrty\n",
    "    u2=u*u\n",
    "    v2=v*v\n",
    "    u2mean=u2.mean(dim='time_counter')\n",
    "    v2mean=v2.mean(dim='time_counter')\n",
    "    umonth=u.groupby('time_counter.month').mean('time_counter')\n",
    "    vmonth=v.groupby('time_counter.month').mean('time_counter')\n",
    "    umonth2=umonth*umonth\n",
    "    vmonth2=vmonth*vmonth\n",
    "    tke=compute_TKE(umonth2,vmonth2)\n",
    "    for m in np.arange(1,13):\n",
    "        if not os.path.exists('Plots/'+config+'/Maps/'+config+'-'+case+'y'+str(year)+'m'+str(m)+'_tke_surf.png'):\n",
    "            print('Plotting for month '+str(m))\n",
    "            plot_one_month(10000*tke[m-1,0],0,2500,'cmo.amp','Surface TKE y'+year,'tke_surf',m,year)\n",
    "   "
   ]
  },
  {
   "cell_type": "code",
   "execution_count": null,
   "metadata": {
    "scrolled": false
   },
   "outputs": [],
   "source": [
    "#for year in ['2010','2011','2012']:\n",
    "for year in ['2011','2012']:\n",
    "    print(year)\n",
    "    process(year)"
   ]
  },
  {
   "cell_type": "code",
   "execution_count": null,
   "metadata": {},
   "outputs": [],
   "source": []
  }
 ],
 "metadata": {
  "kernelspec": {
   "display_name": "Python 3",
   "language": "python",
   "name": "python3"
  },
  "language_info": {
   "codemirror_mode": {
    "name": "ipython",
    "version": 3
   },
   "file_extension": ".py",
   "mimetype": "text/x-python",
   "name": "python",
   "nbconvert_exporter": "python",
   "pygments_lexer": "ipython3",
   "version": "3.7.3"
  }
 },
 "nbformat": 4,
 "nbformat_minor": 1
}
