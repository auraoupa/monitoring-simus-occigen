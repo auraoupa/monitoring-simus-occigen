{
 "cells": [
  {
   "cell_type": "code",
   "execution_count": 55,
   "metadata": {},
   "outputs": [
    {
     "name": "stderr",
     "output_type": "stream",
     "text": [
      "/scratch/cnt0024/hmg2840/albert7a/anaconda3/lib/python3.7/site-packages/distributed/bokeh/core.py:74: UserWarning: \n",
      "Failed to start diagnostics server on port 8787. [Errno 13] Permission denied\n",
      "  warnings.warn(\"\\n\" + msg)\n"
     ]
    },
    {
     "data": {
      "application/vnd.jupyter.widget-view+json": {
       "model_id": "fed9bb683e234305b1831e2316016232",
       "version_major": 2,
       "version_minor": 0
      },
      "text/plain": [
       "VBox(children=(HTML(value='<h2>SLURMCluster</h2>'), HBox(children=(HTML(value='\\n<div>\\n  <style scoped>\\n    …"
      ]
     },
     "metadata": {},
     "output_type": "display_data"
    }
   ],
   "source": [
    "from dask_jobqueue import SLURMCluster \n",
    "from dask.distributed import Client \n",
    "  \n",
    "cluster = SLURMCluster(cores=28,name='make_profiles',walltime='00:30:00',job_extra=['--constraint=HSW24','--exclusive','--nodes=1'],memory='120GB',interface='ib0') \n",
    "cluster.adapt(minimum=28, maximum=136)\n",
    "cluster"
   ]
  },
  {
   "cell_type": "code",
   "execution_count": 56,
   "metadata": {},
   "outputs": [
    {
     "data": {
      "text/html": [
       "<table style=\"border: 2px solid white;\">\n",
       "<tr>\n",
       "<td style=\"vertical-align: top; border: 0px solid white\">\n",
       "<h3>Client</h3>\n",
       "<ul>\n",
       "  <li><b>Scheduler: </b>tcp://172.30.100.1:35353\n",
       "  <li><b>Dashboard: </b><a href='http://172.30.100.1:46706/status' target='_blank'>http://172.30.100.1:46706/status</a>\n",
       "</ul>\n",
       "</td>\n",
       "<td style=\"vertical-align: top; border: 0px solid white\">\n",
       "<h3>Cluster</h3>\n",
       "<ul>\n",
       "  <li><b>Workers: </b>0</li>\n",
       "  <li><b>Cores: </b>0</li>\n",
       "  <li><b>Memory: </b>0 B</li>\n",
       "</ul>\n",
       "</td>\n",
       "</tr>\n",
       "</table>"
      ],
      "text/plain": [
       "<Client: scheduler='tcp://172.30.100.1:35353' processes=0 cores=0>"
      ]
     },
     "execution_count": 56,
     "metadata": {},
     "output_type": "execute_result"
    }
   ],
   "source": [
    "from dask.distributed import Client\n",
    "client = Client(cluster)\n",
    "client"
   ]
  },
  {
   "cell_type": "code",
   "execution_count": 57,
   "metadata": {},
   "outputs": [],
   "source": [
    "import sys\n",
    "import numpy as np\n",
    "import numpy.ma as ma\n",
    "import xarray as xr\n",
    "import matplotlib.pyplot as plt\n",
    "import matplotlib.ticker as mticker\n",
    "import cartopy.crs as ccrs\n",
    "from cartopy.mpl.gridliner import LONGITUDE_FORMATTER, LATITUDE_FORMATTER\n",
    "import cartopy.feature as cfeature\n",
    "import cmocean\n",
    "import glob\n",
    "\n",
    "%matplotlib inline\n"
   ]
  },
  {
   "cell_type": "code",
   "execution_count": 58,
   "metadata": {},
   "outputs": [],
   "source": [
    "#params\n",
    "\n",
    "tous_les_plots_gridT=True\n",
    "tous_les_plots_flxT=True"
   ]
  },
  {
   "cell_type": "code",
   "execution_count": 59,
   "metadata": {},
   "outputs": [],
   "source": [
    "config='EU36'\n",
    "case='MPC001'\n",
    "freq='1d'\n",
    "year='2010'\n",
    "\n",
    "datadir='/scratch/cnt0024/hmg2840/colombo/'+str(config)+'/'+str(config)+'-'+str(case)+'-S/'+str(freq)+'/'+str(year)+'/'\n",
    "#!ls $datadir\n",
    "gridfile='/scratch/cnt0024/hmg2840/colombo/EU36/EU36-I/coordinates_EU36.nc'\n",
    "maskfile='/scratch/cnt0024/hmg2840/colombo/EU36/EU36-I/EU36.L75_mesh_mask.nc'"
   ]
  },
  {
   "cell_type": "code",
   "execution_count": 60,
   "metadata": {},
   "outputs": [],
   "source": [
    "dsgrid=xr.open_dataset(gridfile)\n",
    "dsmask=xr.open_dataset(maskfile)"
   ]
  },
  {
   "cell_type": "code",
   "execution_count": 61,
   "metadata": {},
   "outputs": [],
   "source": [
    "def compute_EKE(u,v,u2mean,v2mean):\n",
    "    ua=0.5*((u2mean-u*u)+(u2mean.shift(x=-1)-u.shift(x=-1)*u.shift(x=-1)))\n",
    "    va=0.5*((v2mean-v*v)+(v2mean.shift(y=-1)-v.shift(y=-1)*v.shift(y=-1)))\n",
    "    uat=ua.rename({'depthu':'deptht'})\n",
    "    vat=va.rename({'depthv':'deptht'})\n",
    "    eke=0.5*(uat+vat)\n",
    "    return eke\n"
   ]
  },
  {
   "cell_type": "code",
   "execution_count": 62,
   "metadata": {},
   "outputs": [],
   "source": [
    "month_name={1:'January',2:'February',3:'March',4:'April',5:'May',6:'June',7:'July',8:'August',9:'September',10:'October',11:'November',12:'December'}\n",
    "def plot_monthly(var,mask,vmin,vmax,cmap,title,figfile):\n",
    "    fig, axes = plt.subplots(3,4,figsize=(30,20))\n",
    "    axes = axes.ravel()\n",
    "    for m in np.arange(1,13):\n",
    "        if m < 10:\n",
    "            month='0'+str(m)\n",
    "        else:\n",
    "            month=str(m)\n",
    "        if m in [1,3,5,7,8,10,12]:\n",
    "            dayf='31'\n",
    "        elif m == 2:\n",
    "            dayf='28'\n",
    "        else:\n",
    "            dayf='30'\n",
    "        ax=axes[m-1]\n",
    "        var.sel(time_counter=slice('2010-'+month+'-01','2010-'+month+'-'+dayf)).mean(dim='time_counter').where(mask==1).plot(cmap=cmap,ax=ax,vmin=vmin,vmax=vmax,add_labels=True)\n",
    "        ax.set_title(month_name[m])\n",
    "    fig.suptitle('Monthly mean of '+str(title))\n",
    "    plt.savefig(config+'-'+case+'y'+str(year)+'.1m_'+figfile+'.png')"
   ]
  },
  {
   "cell_type": "code",
   "execution_count": 89,
   "metadata": {},
   "outputs": [],
   "source": [
    "def plot_annual(var,mask,vmin,vmax,cmap,title,figfile):\n",
    "    fig, ax = plt.subplots(1,1,figsize=(10,15))\n",
    "    var.mean(dim='time_counter').where(mask==1).plot(cmap=cmap,ax=ax,vmin=vmin,vmax=vmax,add_labels=True)\n",
    "    fig.suptitle('Annual mean of '+str(title))\n",
    "    plt.savefig(config+'-'+case+'_y'+str(year)+'.1y_'+figfile+'.png')    "
   ]
  },
  {
   "cell_type": "code",
   "execution_count": 64,
   "metadata": {},
   "outputs": [],
   "source": [
    "filesU=sorted(glob.glob(datadir+'/'+str(config)+'-'+str(case)+'_y'+str(year)+'m??d??.'+str(freq)+'_gridU.nc'))"
   ]
  },
  {
   "cell_type": "code",
   "execution_count": 65,
   "metadata": {},
   "outputs": [],
   "source": [
    "filesV=sorted(glob.glob(datadir+'/'+str(config)+'-'+str(case)+'_y'+str(year)+'m??d??.'+str(freq)+'_gridV.nc'))"
   ]
  },
  {
   "cell_type": "code",
   "execution_count": 66,
   "metadata": {},
   "outputs": [],
   "source": [
    "dsU=xr.open_mfdataset(filesU, chunks={'x':700,'y':1000,'time_counter':1,'depthu':1})"
   ]
  },
  {
   "cell_type": "code",
   "execution_count": 67,
   "metadata": {},
   "outputs": [],
   "source": [
    "dsV=xr.open_mfdataset(filesV, chunks={'x':700,'y':1000,'time_counter':1,'depthv':1})"
   ]
  },
  {
   "cell_type": "code",
   "execution_count": 68,
   "metadata": {},
   "outputs": [
    {
     "data": {
      "text/plain": [
       "<xarray.Dataset>\n",
       "Dimensions:               (axis_nbounds: 2, depthu: 75, time_counter: 317, x: 732, y: 1718)\n",
       "Coordinates:\n",
       "    nav_lat               (y, x) float32 32.741238 32.741158 ... -1.0 -1.0\n",
       "    nav_lon               (y, x) float32 -17.140152 -17.112343 ... -1.0 -1.0\n",
       "  * depthu                (depthu) float32 0.50576 1.5558553 ... 5902.0576\n",
       "    time_centered         (time_counter) datetime64[ns] dask.array<shape=(317,), chunksize=(1,)>\n",
       "  * time_counter          (time_counter) datetime64[ns] 2010-01-01T12:00:00 ... 2010-11-13T12:00:00\n",
       "Dimensions without coordinates: axis_nbounds, x, y\n",
       "Data variables:\n",
       "    depthu_bounds         (time_counter, depthu, axis_nbounds) float32 dask.array<shape=(317, 75, 2), chunksize=(1, 1, 2)>\n",
       "    time_centered_bounds  (time_counter, axis_nbounds) datetime64[ns] dask.array<shape=(317, 2), chunksize=(1, 2)>\n",
       "    time_counter_bounds   (time_counter, axis_nbounds) datetime64[ns] dask.array<shape=(317, 2), chunksize=(1, 2)>\n",
       "    e3u                   (time_counter, depthu, y, x) float32 dask.array<shape=(317, 75, 1718, 732), chunksize=(1, 1, 1000, 700)>\n",
       "    vozocrtx              (time_counter, depthu, y, x) float32 dask.array<shape=(317, 75, 1718, 732), chunksize=(1, 1, 1000, 700)>\n",
       "    sozotaux              (time_counter, y, x) float32 dask.array<shape=(317, 1718, 732), chunksize=(1, 1000, 700)>\n",
       "Attributes:\n",
       "    description:  ocean U grid variables\n",
       "    title:        ocean U grid variables\n",
       "    Conventions:  CF-1.6\n",
       "    uuid:         18501dc0-fdfd-412e-8c3e-4687c92345c0"
      ]
     },
     "execution_count": 68,
     "metadata": {},
     "output_type": "execute_result"
    }
   ],
   "source": [
    "dsU"
   ]
  },
  {
   "cell_type": "code",
   "execution_count": 69,
   "metadata": {},
   "outputs": [],
   "source": [
    "u=dsU.vozocrtx"
   ]
  },
  {
   "cell_type": "code",
   "execution_count": 70,
   "metadata": {},
   "outputs": [],
   "source": [
    "v=dsV.vomecrty"
   ]
  },
  {
   "cell_type": "code",
   "execution_count": 71,
   "metadata": {},
   "outputs": [],
   "source": [
    "u2=u*u"
   ]
  },
  {
   "cell_type": "code",
   "execution_count": 72,
   "metadata": {},
   "outputs": [],
   "source": [
    "v2=v*v"
   ]
  },
  {
   "cell_type": "code",
   "execution_count": 73,
   "metadata": {},
   "outputs": [],
   "source": [
    "u2mean=u2.mean(dim='time_counter')"
   ]
  },
  {
   "cell_type": "code",
   "execution_count": 74,
   "metadata": {},
   "outputs": [],
   "source": [
    "v2mean=v2.mean(dim='time_counter')"
   ]
  },
  {
   "cell_type": "code",
   "execution_count": 75,
   "metadata": {},
   "outputs": [],
   "source": [
    "ua=0.5*((u2mean-u*u)+(u2mean.shift(x=-1)-u.shift(x=-1)*u.shift(x=-1)))\n",
    "va=0.5*((v2mean-v*v)+(v2mean.shift(y=-1)-v.shift(y=-1)*v.shift(y=-1)))\n"
   ]
  },
  {
   "cell_type": "code",
   "execution_count": 76,
   "metadata": {},
   "outputs": [
    {
     "data": {
      "text/plain": [
       "<xarray.DataArray 'vozocrtx' (depthu: 75, y: 1718, x: 732, time_counter: 317)>\n",
       "dask.array<shape=(75, 1718, 732, 317), dtype=float32, chunksize=(1, 1000, 700, 1)>\n",
       "Coordinates:\n",
       "    nav_lat        (y, x) float32 32.741238 32.741158 32.741077 ... -1.0 -1.0\n",
       "    nav_lon        (y, x) float32 -17.140152 -17.112343 -17.084534 ... -1.0 -1.0\n",
       "  * depthu         (depthu) float32 0.50576 1.5558553 ... 5698.0605 5902.0576\n",
       "    time_centered  (time_counter) datetime64[ns] dask.array<shape=(317,), chunksize=(1,)>\n",
       "  * time_counter   (time_counter) datetime64[ns] 2010-01-01T12:00:00 ... 2010-11-13T12:00:00\n",
       "Dimensions without coordinates: y, x"
      ]
     },
     "execution_count": 76,
     "metadata": {},
     "output_type": "execute_result"
    }
   ],
   "source": [
    "ua"
   ]
  },
  {
   "cell_type": "code",
   "execution_count": 77,
   "metadata": {},
   "outputs": [
    {
     "data": {
      "text/plain": [
       "<xarray.DataArray 'vomecrty' (depthv: 75, y: 1718, x: 732, time_counter: 317)>\n",
       "dask.array<shape=(75, 1718, 732, 317), dtype=float32, chunksize=(1, 1000, 700, 1)>\n",
       "Coordinates:\n",
       "    nav_lat        (y, x) float32 32.753014 32.752934 32.75285 ... -1.0 -1.0\n",
       "    nav_lon        (y, x) float32 -17.154009 -17.1262 -17.09839 ... -1.0 -1.0\n",
       "  * depthv         (depthv) float32 0.50576 1.5558553 ... 5698.0605 5902.0576\n",
       "    time_centered  (time_counter) datetime64[ns] dask.array<shape=(317,), chunksize=(1,)>\n",
       "  * time_counter   (time_counter) datetime64[ns] 2010-01-01T12:00:00 ... 2010-11-13T12:00:00\n",
       "Dimensions without coordinates: y, x"
      ]
     },
     "execution_count": 77,
     "metadata": {},
     "output_type": "execute_result"
    }
   ],
   "source": [
    "va"
   ]
  },
  {
   "cell_type": "code",
   "execution_count": 78,
   "metadata": {},
   "outputs": [],
   "source": [
    "uat=ua.rename({'depthu':'deptht'})"
   ]
  },
  {
   "cell_type": "code",
   "execution_count": 79,
   "metadata": {},
   "outputs": [],
   "source": [
    "vat=va.rename({'depthv':'deptht'})"
   ]
  },
  {
   "cell_type": "code",
   "execution_count": 80,
   "metadata": {},
   "outputs": [
    {
     "name": "stderr",
     "output_type": "stream",
     "text": [
      "JobQueueCluster.scale_up was called with a number of workers lower that what is already running or pending\n",
      "JobQueueCluster.scale_up was called with a number of workers lower that what is already running or pending\n"
     ]
    }
   ],
   "source": [
    "eke=uat+vat"
   ]
  },
  {
   "cell_type": "code",
   "execution_count": 84,
   "metadata": {},
   "outputs": [
    {
     "name": "stderr",
     "output_type": "stream",
     "text": [
      "JobQueueCluster.scale_up was called with a number of workers lower that what is already running or pending\n",
      "JobQueueCluster.scale_up was called with a number of workers lower that what is already running or pending\n",
      "JobQueueCluster.scale_up was called with a number of workers lower that what is already running or pending\n",
      "JobQueueCluster.scale_up was called with a number of workers lower that what is already running or pending\n",
      "JobQueueCluster.scale_up was called with a number of workers lower that what is already running or pending\n",
      "JobQueueCluster.scale_up was called with a number of workers lower that what is already running or pending\n"
     ]
    },
    {
     "data": {
      "text/plain": [
       "<matplotlib.collections.QuadMesh at 0x2b5b80950c88>"
      ]
     },
     "execution_count": 84,
     "metadata": {},
     "output_type": "execute_result"
    },
    {
     "data": {
      "image/png": "[encoded data removed]",
      "text/plain": [
       "<Figure size 432x288 with 2 Axes>"
      ]
     },
     "metadata": {
      "needs_background": "light"
     },
     "output_type": "display_data"
    }
   ],
   "source": [
    "eke[0,:,:,0].plot()"
   ]
  },
  {
   "cell_type": "code",
   "execution_count": 86,
   "metadata": {},
   "outputs": [
    {
     "name": "stderr",
     "output_type": "stream",
     "text": [
      "JobQueueCluster.scale_up was called with a number of workers lower that what is already running or pending\n",
      "JobQueueCluster.scale_up was called with a number of workers lower that what is already running or pending\n",
      "JobQueueCluster.scale_up was called with a number of workers lower that what is already running or pending\n",
      "JobQueueCluster.scale_up was called with a number of workers lower that what is already running or pending\n",
      "JobQueueCluster.scale_up was called with a number of workers lower that what is already running or pending\n",
      "JobQueueCluster.scale_up was called with a number of workers lower that what is already running or pending\n",
      "JobQueueCluster.scale_up was called with a number of workers lower that what is already running or pending\n",
      "JobQueueCluster.scale_up was called with a number of workers lower that what is already running or pending\n",
      "JobQueueCluster.scale_up was called with a number of workers lower that what is already running or pending\n",
      "JobQueueCluster.scale_up was called with a number of workers lower that what is already running or pending\n",
      "JobQueueCluster.scale_up was called with a number of workers lower that what is already running or pending\n",
      "JobQueueCluster.scale_up was called with a number of workers lower that what is already running or pending\n",
      "JobQueueCluster.scale_up was called with a number of workers lower that what is already running or pending\n"
     ]
    },
    {
     "data": {
      "text/plain": [
       "<matplotlib.collections.QuadMesh at 0x2b5b86ca0d68>"
      ]
     },
     "execution_count": 86,
     "metadata": {},
     "output_type": "execute_result"
    },
    {
     "data": {
      "image/png": "[encoded data removed]",
      "text/plain": [
       "<Figure size 432x288 with 2 Axes>"
      ]
     },
     "metadata": {
      "needs_background": "light"
     },
     "output_type": "display_data"
    }
   ],
   "source": [
    "eke[0,:,:].mean(dim='time_counter').plot()"
   ]
  },
  {
   "cell_type": "code",
   "execution_count": 97,
   "metadata": {},
   "outputs": [
    {
     "name": "stderr",
     "output_type": "stream",
     "text": [
      "JobQueueCluster.scale_up was called with a number of workers lower that what is already running or pending\n",
      "JobQueueCluster.scale_up was called with a number of workers lower that what is already running or pending\n",
      "JobQueueCluster.scale_up was called with a number of workers lower that what is already running or pending\n",
      "JobQueueCluster.scale_up was called with a number of workers lower that what is already running or pending\n",
      "JobQueueCluster.scale_up was called with a number of workers lower that what is already running or pending\n",
      "JobQueueCluster.scale_up was called with a number of workers lower that what is already running or pending\n",
      "JobQueueCluster.scale_up was called with a number of workers lower that what is already running or pending\n",
      "JobQueueCluster.scale_up was called with a number of workers lower that what is already running or pending\n"
     ]
    },
    {
     "data": {
      "image/png": "[encoded data removed]",
      "text/plain": [
       "<Figure size 720x1080 with 2 Axes>"
      ]
     },
     "metadata": {
      "needs_background": "light"
     },
     "output_type": "display_data"
    }
   ],
   "source": [
    "mask=dsmask.tmask[0]\n",
    "plot_annual(10000*eke[0],mask[0],0,500,'cmo.amp','Surface EKE','eke_surf')"
   ]
  },
  {
   "cell_type": "code",
   "execution_count": 100,
   "metadata": {},
   "outputs": [],
   "source": [
    "truc=eke[0,:,:].mean(dim='time_counter')"
   ]
  },
  {
   "cell_type": "code",
   "execution_count": 108,
   "metadata": {},
   "outputs": [
    {
     "name": "stderr",
     "output_type": "stream",
     "text": [
      "JobQueueCluster.scale_up was called with a number of workers lower that what is already running or pending\n",
      "JobQueueCluster.scale_up was called with a number of workers lower that what is already running or pending\n",
      "JobQueueCluster.scale_up was called with a number of workers lower that what is already running or pending\n"
     ]
    },
    {
     "name": "stdout",
     "output_type": "stream",
     "text": [
      "[[ 1.9977897e-10  8.2261933e-11  2.5853750e-10 ...  1.8802727e-10\n",
      "   1.8802727e-10 -9.4013637e-11]\n",
      " [ 2.3503409e-11 -5.8758523e-12 -9.4013637e-11 ... -9.4013637e-11\n",
      "   2.8204092e-10 -9.4013637e-11]\n",
      " [ 1.9977897e-10  2.0565483e-10  1.8508935e-10 ... -1.8802727e-10\n",
      "  -1.8802727e-10 -4.7006815e-10]\n",
      " ...\n",
      " [-1.8802727e-10  3.7605455e-10  1.2221772e-09 ... -1.6452387e-10\n",
      "  -1.2926875e-10 -1.2926875e-10]\n",
      " [-5.6408184e-10 -1.8802727e-10  9.4013630e-10 ...  8.2261933e-11\n",
      "  -1.8215142e-10  0.0000000e+00]\n",
      " [-1.8802727e-10  3.7605455e-10 -9.4013637e-11 ...  2.0271690e-10\n",
      "  -1.0576534e-10  7.0510230e-11]]\n"
     ]
    }
   ],
   "source": [
    "print(truc[600:800,100:200].values)"
   ]
  },
  {
   "cell_type": "code",
   "execution_count": 94,
   "metadata": {},
   "outputs": [
    {
     "data": {
      "text/plain": [
       "<xarray.DataArray 'tmask' (nav_lev: 75, y: 1718, x: 732)>\n",
       "array([[[0, 0, ..., 0, 0],\n",
       "        [0, 0, ..., 0, 0],\n",
       "        ...,\n",
       "        [0, 0, ..., 0, 0],\n",
       "        [0, 0, ..., 0, 0]],\n",
       "\n",
       "       [[0, 0, ..., 0, 0],\n",
       "        [0, 0, ..., 0, 0],\n",
       "        ...,\n",
       "        [0, 0, ..., 0, 0],\n",
       "        [0, 0, ..., 0, 0]],\n",
       "\n",
       "       ...,\n",
       "\n",
       "       [[0, 0, ..., 0, 0],\n",
       "        [0, 0, ..., 0, 0],\n",
       "        ...,\n",
       "        [0, 0, ..., 0, 0],\n",
       "        [0, 0, ..., 0, 0]],\n",
       "\n",
       "       [[0, 0, ..., 0, 0],\n",
       "        [0, 0, ..., 0, 0],\n",
       "        ...,\n",
       "        [0, 0, ..., 0, 0],\n",
       "        [0, 0, ..., 0, 0]]], dtype=int8)\n",
       "Coordinates:\n",
       "  * nav_lev       (nav_lev) float32 0.50576 1.5558553 ... 5698.0605 5902.0576\n",
       "    time_counter  float64 0.0\n",
       "Dimensions without coordinates: y, x"
      ]
     },
     "execution_count": 94,
     "metadata": {},
     "output_type": "execute_result"
    }
   ],
   "source": [
    "mask"
   ]
  },
  {
   "cell_type": "code",
   "execution_count": 81,
   "metadata": {},
   "outputs": [
    {
     "ename": "NameError",
     "evalue": "name 'plot_eke_annual' is not defined",
     "output_type": "error",
     "traceback": [
      "\u001b[0;31m---------------------------------------------------------------------------\u001b[0m",
      "\u001b[0;31mNameError\u001b[0m                                 Traceback (most recent call last)",
      "\u001b[0;32m<ipython-input-81-13c6786ee4e9>\u001b[0m in \u001b[0;36m<module>\u001b[0;34m\u001b[0m\n\u001b[0;32m----> 1\u001b[0;31m \u001b[0;32mif\u001b[0m \u001b[0mplot_eke_annual\u001b[0m \u001b[0;34m==\u001b[0m \u001b[0;32mTrue\u001b[0m\u001b[0;34m:\u001b[0m\u001b[0;34m\u001b[0m\u001b[0;34m\u001b[0m\u001b[0m\n\u001b[0m\u001b[1;32m      2\u001b[0m     \u001b[0mfilesU\u001b[0m\u001b[0;34m=\u001b[0m\u001b[0msorted\u001b[0m\u001b[0;34m(\u001b[0m\u001b[0mglob\u001b[0m\u001b[0;34m.\u001b[0m\u001b[0mglob\u001b[0m\u001b[0;34m(\u001b[0m\u001b[0mdatadir\u001b[0m\u001b[0;34m+\u001b[0m\u001b[0;34m'/'\u001b[0m\u001b[0;34m+\u001b[0m\u001b[0mstr\u001b[0m\u001b[0;34m(\u001b[0m\u001b[0mconfig\u001b[0m\u001b[0;34m)\u001b[0m\u001b[0;34m+\u001b[0m\u001b[0;34m'-'\u001b[0m\u001b[0;34m+\u001b[0m\u001b[0mstr\u001b[0m\u001b[0;34m(\u001b[0m\u001b[0mcase\u001b[0m\u001b[0;34m)\u001b[0m\u001b[0;34m+\u001b[0m\u001b[0;34m'_y'\u001b[0m\u001b[0;34m+\u001b[0m\u001b[0mstr\u001b[0m\u001b[0;34m(\u001b[0m\u001b[0myear\u001b[0m\u001b[0;34m)\u001b[0m\u001b[0;34m+\u001b[0m\u001b[0;34m'm??d??.'\u001b[0m\u001b[0;34m+\u001b[0m\u001b[0mstr\u001b[0m\u001b[0;34m(\u001b[0m\u001b[0mfreq\u001b[0m\u001b[0;34m)\u001b[0m\u001b[0;34m+\u001b[0m\u001b[0;34m'_gridU.nc'\u001b[0m\u001b[0;34m)\u001b[0m\u001b[0;34m)\u001b[0m\u001b[0;34m\u001b[0m\u001b[0;34m\u001b[0m\u001b[0m\n\u001b[1;32m      3\u001b[0m     \u001b[0mfilesV\u001b[0m\u001b[0;34m=\u001b[0m\u001b[0msorted\u001b[0m\u001b[0;34m(\u001b[0m\u001b[0mglob\u001b[0m\u001b[0;34m.\u001b[0m\u001b[0mglob\u001b[0m\u001b[0;34m(\u001b[0m\u001b[0mdatadir\u001b[0m\u001b[0;34m+\u001b[0m\u001b[0;34m'/'\u001b[0m\u001b[0;34m+\u001b[0m\u001b[0mstr\u001b[0m\u001b[0;34m(\u001b[0m\u001b[0mconfig\u001b[0m\u001b[0;34m)\u001b[0m\u001b[0;34m+\u001b[0m\u001b[0;34m'-'\u001b[0m\u001b[0;34m+\u001b[0m\u001b[0mstr\u001b[0m\u001b[0;34m(\u001b[0m\u001b[0mcase\u001b[0m\u001b[0;34m)\u001b[0m\u001b[0;34m+\u001b[0m\u001b[0;34m'_y'\u001b[0m\u001b[0;34m+\u001b[0m\u001b[0mstr\u001b[0m\u001b[0;34m(\u001b[0m\u001b[0myear\u001b[0m\u001b[0;34m)\u001b[0m\u001b[0;34m+\u001b[0m\u001b[0;34m'm??d??.'\u001b[0m\u001b[0;34m+\u001b[0m\u001b[0mstr\u001b[0m\u001b[0;34m(\u001b[0m\u001b[0mfreq\u001b[0m\u001b[0;34m)\u001b[0m\u001b[0;34m+\u001b[0m\u001b[0;34m'_gridV.nc'\u001b[0m\u001b[0;34m)\u001b[0m\u001b[0;34m)\u001b[0m\u001b[0;34m\u001b[0m\u001b[0;34m\u001b[0m\u001b[0m\n\u001b[1;32m      4\u001b[0m     \u001b[0mdsU\u001b[0m\u001b[0;34m=\u001b[0m\u001b[0mxr\u001b[0m\u001b[0;34m.\u001b[0m\u001b[0mopen_mfdataset\u001b[0m\u001b[0;34m(\u001b[0m\u001b[0mfilesU\u001b[0m\u001b[0;34m)\u001b[0m\u001b[0;34m\u001b[0m\u001b[0;34m\u001b[0m\u001b[0m\n\u001b[1;32m      5\u001b[0m     \u001b[0mdsV\u001b[0m\u001b[0;34m=\u001b[0m\u001b[0mxr\u001b[0m\u001b[0;34m.\u001b[0m\u001b[0mopen_mfdataset\u001b[0m\u001b[0;34m(\u001b[0m\u001b[0mfilesV\u001b[0m\u001b[0;34m)\u001b[0m\u001b[0;34m\u001b[0m\u001b[0;34m\u001b[0m\u001b[0m\n",
      "\u001b[0;31mNameError\u001b[0m: name 'plot_eke_annual' is not defined"
     ]
    },
    {
     "name": "stderr",
     "output_type": "stream",
     "text": [
      "JobQueueCluster.scale_up was called with a number of workers lower that what is already running or pending\n",
      "JobQueueCluster.scale_up was called with a number of workers lower that what is already running or pending\n"
     ]
    }
   ],
   "source": [
    "if plot_eke_annual == True:\n",
    "    filesU=sorted(glob.glob(datadir+'/'+str(config)+'-'+str(case)+'_y'+str(year)+'m??d??.'+str(freq)+'_gridU.nc'))\n",
    "    filesV=sorted(glob.glob(datadir+'/'+str(config)+'-'+str(case)+'_y'+str(year)+'m??d??.'+str(freq)+'_gridV.nc'))\n",
    "    dsU=xr.open_mfdataset(filesU)\n",
    "    dsV=xr.open_mfdataset(filesV)\n",
    "    u=dsU.vozocrtx\n",
    "    v=dsV.vomecrty\n",
    "    mask=dsmask.tmask[0]\n",
    "    u2=u*u\n",
    "    v2=v*v\n",
    "    u2mean=u2.mean(dim='time_counter')\n",
    "    v2mean=v2.mean(dim='time_counter')\n",
    "    eke=compute_EKE(u,v,u2mean,v2mean)\n",
    "    plot_annual(10000*eke[0],mask[0],0,500,'cmo.amp','Surface EKE','eke_surf')\n",
    "    plot_monthly(10000*eke[0],mask[0],0,500,'cmo.amp','Surface EKE','eke_surf')"
   ]
  },
  {
   "cell_type": "code",
   "execution_count": null,
   "metadata": {},
   "outputs": [],
   "source": []
  }
 ],
 "metadata": {
  "kernelspec": {
   "display_name": "Python 3",
   "language": "python",
   "name": "python3"
  },
  "language_info": {
   "codemirror_mode": {
    "name": "ipython",
    "version": 3
   },
   "file_extension": ".py",
   "mimetype": "text/x-python",
   "name": "python",
   "nbconvert_exporter": "python",
   "pygments_lexer": "ipython3",
   "version": "3.7.3"
  }
 },
 "nbformat": 4,
 "nbformat_minor": 1
}
