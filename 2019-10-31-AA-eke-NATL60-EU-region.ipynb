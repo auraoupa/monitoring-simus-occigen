{
 "cells": [
  {
   "cell_type": "code",
   "execution_count": 1,
   "metadata": {},
   "outputs": [
    {
     "name": "stderr",
     "output_type": "stream",
     "text": [
      "/scratch/cnt0024/hmg2840/albert7a/anaconda3/lib/python3.7/site-packages/dask/config.py:168: YAMLLoadWarning: calling yaml.load() without Loader=... is deprecated, as the default Loader is unsafe. Please read https://msg.pyyaml.org/load for full details.\n",
      "  data = yaml.load(f.read()) or {}\n",
      "/scratch/cnt0024/hmg2840/albert7a/anaconda3/lib/python3.7/site-packages/distributed/bokeh/core.py:74: UserWarning: \n",
      "Failed to start diagnostics server on port 8787. [Errno 13] Permission denied\n",
      "  warnings.warn(\"\\n\" + msg)\n"
     ]
    },
    {
     "data": {
      "application/vnd.jupyter.widget-view+json": {
       "model_id": "25e9d7f18f7d4f39a22de278f1ec63bc",
       "version_major": 2,
       "version_minor": 0
      },
      "text/plain": [
       "VBox(children=(HTML(value='<h2>SLURMCluster</h2>'), HBox(children=(HTML(value='\\n<div>\\n  <style scoped>\\n    …"
      ]
     },
     "metadata": {},
     "output_type": "display_data"
    }
   ],
   "source": [
    "from dask_jobqueue import SLURMCluster \n",
    "from dask.distributed import Client \n",
    "  \n",
    "cluster = SLURMCluster(cores=28,name='make_profiles',walltime='00:30:00',job_extra=['--constraint=HSW24','--exclusive','--nodes=1'],memory='120GB',interface='ib0') \n",
    "cluster.scale(168)\n",
    "cluster"
   ]
  },
  {
   "cell_type": "code",
   "execution_count": 2,
   "metadata": {},
   "outputs": [
    {
     "data": {
      "text/html": [
       "<table style=\"border: 2px solid white;\">\n",
       "<tr>\n",
       "<td style=\"vertical-align: top; border: 0px solid white\">\n",
       "<h3>Client</h3>\n",
       "<ul>\n",
       "  <li><b>Scheduler: </b>tcp://172.30.100.3:42073\n",
       "  <li><b>Dashboard: </b><a href='http://172.30.100.3:46751/status' target='_blank'>http://172.30.100.3:46751/status</a>\n",
       "</ul>\n",
       "</td>\n",
       "<td style=\"vertical-align: top; border: 0px solid white\">\n",
       "<h3>Cluster</h3>\n",
       "<ul>\n",
       "  <li><b>Workers: </b>0</li>\n",
       "  <li><b>Cores: </b>0</li>\n",
       "  <li><b>Memory: </b>0 B</li>\n",
       "</ul>\n",
       "</td>\n",
       "</tr>\n",
       "</table>"
      ],
      "text/plain": [
       "<Client: scheduler='tcp://172.30.100.3:42073' processes=0 cores=0>"
      ]
     },
     "execution_count": 2,
     "metadata": {},
     "output_type": "execute_result"
    }
   ],
   "source": [
    "from dask.distributed import Client\n",
    "client = Client(cluster)\n",
    "client"
   ]
  },
  {
   "cell_type": "code",
   "execution_count": 3,
   "metadata": {},
   "outputs": [
    {
     "name": "stdout",
     "output_type": "stream",
     "text": [
      "             JOBID PARTITION     NAME     USER ST       TIME  NODES NODELIST(REASON)\r\n",
      "           7610482     hsw24 make_pro albert7a PD       0:00      1 (None)\r\n",
      "           7610483     hsw24 make_pro albert7a PD       0:00      1 (None)\r\n",
      "           7610484     hsw24 make_pro albert7a PD       0:00      1 (None)\r\n",
      "           7610485     hsw24 make_pro albert7a PD       0:00      1 (None)\r\n",
      "           7610486     hsw24 make_pro albert7a PD       0:00      1 (None)\r\n",
      "           7610487     hsw24 make_pro albert7a PD       0:00      1 (None)\r\n",
      "           7610461     hsw24 make_pro albert7a  R       1:19      1 n2398\r\n",
      "           7610457     hsw24 make_pro albert7a  R       4:12      1 n2764\r\n",
      "           7610458     hsw24 make_pro albert7a  R       4:12      1 n2373\r\n",
      "           7610459     hsw24 make_pro albert7a  R       4:12      1 n2375\r\n",
      "           7610460     hsw24 make_pro albert7a  R       4:12      1 n2376\r\n",
      "           7610419     hsw24 make_pro albert7a  R      16:40      1 n2268\r\n",
      "           7610420     hsw24 make_pro albert7a  R      16:40      1 n2269\r\n",
      "           7610421     hsw24 make_pro albert7a  R      16:40      1 n2051\r\n",
      "           7610422     hsw24 make_pro albert7a  R      16:40      1 n2058\r\n",
      "           7610423     hsw24 make_pro albert7a  R      16:40      1 n2059\r\n",
      "           7610413     hsw24 make_pro albert7a  R      17:13      1 n2258\r\n",
      "           7610414     hsw24 make_pro albert7a  R      17:13      1 n2401\r\n",
      "           7610415     hsw24 make_pro albert7a  R      17:13      1 n2368\r\n",
      "           7610416     hsw24 make_pro albert7a  R      17:13      1 n2369\r\n",
      "           7610417     hsw24 make_pro albert7a  R      17:13      1 n2370\r\n"
     ]
    }
   ],
   "source": [
    "!squeue -u albert7a"
   ]
  },
  {
   "cell_type": "code",
   "execution_count": 4,
   "metadata": {},
   "outputs": [
    {
     "name": "stdout",
     "output_type": "stream",
     "text": [
      "10\n"
     ]
    }
   ],
   "source": [
    "import time\n",
    "nb_workers = 0\n",
    "while True:\n",
    "    nb_workers = len(client.scheduler_info()[\"workers\"])\n",
    "    if nb_workers >= 2:\n",
    "        break\n",
    "    time.sleep(1)\n",
    "print(nb_workers)"
   ]
  },
  {
   "cell_type": "code",
   "execution_count": 5,
   "metadata": {},
   "outputs": [
    {
     "name": "stdout",
     "output_type": "stream",
     "text": [
      "             JOBID PARTITION     NAME     USER ST       TIME  NODES NODELIST(REASON)\r\n",
      "           7610483     hsw24 make_pro albert7a PD       0:00      1 (Resources)\r\n",
      "           7610484     hsw24 make_pro albert7a PD       0:00      1 (Priority)\r\n",
      "           7610485     hsw24 make_pro albert7a PD       0:00      1 (Priority)\r\n",
      "           7610486     hsw24 make_pro albert7a PD       0:00      1 (Priority)\r\n",
      "           7610487     hsw24 make_pro albert7a PD       0:00      1 (Priority)\r\n",
      "           7610482     hsw24 make_pro albert7a  R       0:18      1 n2185\r\n",
      "           7610461     hsw24 make_pro albert7a  R       1:41      1 n2398\r\n",
      "           7610457     hsw24 make_pro albert7a  R       4:34      1 n2764\r\n",
      "           7610458     hsw24 make_pro albert7a  R       4:34      1 n2373\r\n",
      "           7610459     hsw24 make_pro albert7a  R       4:34      1 n2375\r\n",
      "           7610460     hsw24 make_pro albert7a  R       4:34      1 n2376\r\n",
      "           7610419     hsw24 make_pro albert7a  R      17:02      1 n2268\r\n",
      "           7610420     hsw24 make_pro albert7a  R      17:02      1 n2269\r\n",
      "           7610421     hsw24 make_pro albert7a  R      17:02      1 n2051\r\n",
      "           7610422     hsw24 make_pro albert7a  R      17:02      1 n2058\r\n",
      "           7610423     hsw24 make_pro albert7a  R      17:02      1 n2059\r\n",
      "           7610413     hsw24 make_pro albert7a  R      17:35      1 n2258\r\n",
      "           7610414     hsw24 make_pro albert7a  R      17:35      1 n2401\r\n",
      "           7610415     hsw24 make_pro albert7a  R      17:35      1 n2368\r\n",
      "           7610416     hsw24 make_pro albert7a  R      17:35      1 n2369\r\n",
      "           7610417     hsw24 make_pro albert7a  R      17:35      1 n2370\r\n"
     ]
    }
   ],
   "source": [
    "!squeue -u albert7a"
   ]
  },
  {
   "cell_type": "code",
   "execution_count": 6,
   "metadata": {},
   "outputs": [
    {
     "name": "stderr",
     "output_type": "stream",
     "text": [
      "/scratch/cnt0024/hmg2840/albert7a/anaconda3/lib/python3.7/site-packages/xarray/core/merge.py:16: FutureWarning: The Panel class is removed from pandas. Accessing it from the top-level namespace will also be removed in the next version\n",
      "  PANDAS_TYPES = (pd.Series, pd.DataFrame, pd.Panel)\n"
     ]
    }
   ],
   "source": [
    "import sys\n",
    "import numpy as np\n",
    "import numpy.ma as ma\n",
    "import xarray as xr\n",
    "import matplotlib.pyplot as plt\n",
    "import matplotlib.ticker as mticker\n",
    "import cartopy.crs as ccrs\n",
    "from cartopy.mpl.gridliner import LONGITUDE_FORMATTER, LATITUDE_FORMATTER\n",
    "import cartopy.feature as cfeature\n",
    "import cmocean\n",
    "import glob\n",
    "\n",
    "%matplotlib inline\n"
   ]
  },
  {
   "cell_type": "code",
   "execution_count": 7,
   "metadata": {},
   "outputs": [],
   "source": [
    "#params\n",
    "\n",
    "plot_eke_monthly=False\n",
    "plot_eke_12_month=True\n",
    "plot_eke_annual=False\n"
   ]
  },
  {
   "cell_type": "code",
   "execution_count": 8,
   "metadata": {},
   "outputs": [],
   "source": [
    "config='NATL60'\n",
    "case='CJM165'\n",
    "freq='1d'\n",
    "#year='2010' #depends on the month\n",
    "\n",
    "datadir='/store/molines/'+str(config)+'/'+str(config)+'-'+str(case)+'-S/'+str(freq)+'/'\n",
    "#!ls $datadir\n",
    "gridfile='/store/molines/NATL60/NATL60-I/NATL60_coordinates_v4.nc'\n",
    "maskfile='/store/molines/NATL60/NATL60-I/NATL60_v4.1_cdf_byte_mask.nc'"
   ]
  },
  {
   "cell_type": "code",
   "execution_count": 9,
   "metadata": {},
   "outputs": [],
   "source": [
    "dsgrid=xr.open_dataset(gridfile)\n",
    "dsmask=xr.open_dataset(maskfile)"
   ]
  },
  {
   "cell_type": "code",
   "execution_count": 10,
   "metadata": {},
   "outputs": [],
   "source": [
    "def compute_EKE(u,v,u2mean,v2mean):\n",
    "    ua=0.5*((u2mean-u*u)+(u2mean.shift(x=-1)-u.shift(x=-1)*u.shift(x=-1)))\n",
    "    va=0.5*((v2mean-v*v)+(v2mean.shift(y=-1)-v.shift(y=-1)*v.shift(y=-1)))\n",
    "    uat=ua.rename({'depthu':'deptht'})\n",
    "    vat=va.rename({'depthv':'deptht'})\n",
    "    eke=0.5*(uat+vat)\n",
    "    return eke\n"
   ]
  },
  {
   "cell_type": "code",
   "execution_count": 11,
   "metadata": {},
   "outputs": [],
   "source": [
    "month_name={1:'January',2:'February',3:'March',4:'April',5:'May',6:'June',7:'July',8:'August',9:'September',10:'October',11:'November',12:'December'}\n",
    "def plot_monthly(var,mask,vmin,vmax,cmap,title,figfile):\n",
    "    fig, axes = plt.subplots(3,4,figsize=(30,20))\n",
    "    axes = axes.ravel()\n",
    "    for m in np.arange(1,13):\n",
    "        if m < 10:\n",
    "            month='0'+str(m)\n",
    "        else:\n",
    "            month=str(m)\n",
    "        if m in [1,3,5,7,8,10,12]:\n",
    "            dayf='31'\n",
    "        elif m == 2:\n",
    "            dayf='28'\n",
    "        else:\n",
    "            dayf='30'\n",
    "        if m < 10:\n",
    "            year='2013'\n",
    "        else:\n",
    "            year='2012'\n",
    "        ax=axes[m-1]\n",
    "        var.sel(time_counter=slice(str(year)+'-'+month+'-01',str(year)+'-'+month+'-'+dayf)).mean(dim='time_counter').where(mask==1).plot(cmap=cmap,ax=ax,vmin=vmin,vmax=vmax,add_labels=True)\n",
    "        ax.set_title(month_name[m])\n",
    "    fig.suptitle('Monthly mean of '+str(title))\n",
    "    plt.savefig(config+'-'+case+'y'+str(year)+'.1m_'+figfile+'.png')"
   ]
  },
  {
   "cell_type": "code",
   "execution_count": 12,
   "metadata": {},
   "outputs": [],
   "source": [
    "month_name={1:'January',2:'February',3:'March',4:'April',5:'May',6:'June',7:'July',8:'August',9:'September',10:'October',11:'November',12:'December'}\n",
    "def plot_one_month(var,mask,vmin,vmax,cmap,title,figfile,m):\n",
    "    fig, ax = plt.subplots(1,1,figsize=(10,15))\n",
    "    if m < 10:\n",
    "        month='0'+str(m)\n",
    "    else:\n",
    "        month=str(m)\n",
    "    if m in [1,3,5,7,8,10,12]:\n",
    "        dayf='31'\n",
    "    elif m == 2:\n",
    "        dayf='28'\n",
    "    else:\n",
    "        dayf='30'\n",
    "        if m < 10:\n",
    "            year='2013'\n",
    "        else:\n",
    "            year='2012'\n",
    "    var.sel(time_counter=slice(str(year)+'-'+month+'-01',str(year)+'-'+month+'-'+dayf)).mean(dim='time_counter').where(mask==1).plot(cmap=cmap,ax=ax,vmin=vmin,vmax=vmax,add_labels=True)\n",
    "    ax.set_title(month_name[m])\n",
    "    fig.suptitle('Monthly mean of '+str(title))\n",
    "    plt.savefig(config+'-'+case+'y'+str(year)+'m'+str(month)+'_'+figfile+'.png')"
   ]
  },
  {
   "cell_type": "code",
   "execution_count": 13,
   "metadata": {},
   "outputs": [],
   "source": [
    "def plot_annual(var,mask,vmin,vmax,cmap,title,figfile):\n",
    "    fig, ax = plt.subplots(1,1,figsize=(10,15))\n",
    "    var.mean(dim='time_counter').where(mask==1).plot(cmap=cmap,ax=ax,vmin=vmin,vmax=vmax,add_labels=True)\n",
    "    fig.suptitle('Annual mean of '+str(title))\n",
    "    plt.savefig(config+'-'+case+'_y'+str(year)+'.1y_'+figfile+'.png')    "
   ]
  },
  {
   "cell_type": "code",
   "execution_count": 14,
   "metadata": {},
   "outputs": [],
   "source": [
    "if plot_eke_monthly==True:\n",
    "    filesU=sorted(glob.glob(datadir+'/*/'+str(config)+'-'+str(case)+'_y????m??d??.'+str(freq)+'_gridU.nc'))\n",
    "    filesV=sorted(glob.glob(datadir+'/*/'+str(config)+'-'+str(case)+'_y????m??d??.'+str(freq)+'_gridV.nc'))\n",
    "    dsU=xr.open_mfdataset(filesU, chunks={'x':700,'y':1000,'time_counter':1,'depthu':1})\n",
    "    dsV=xr.open_mfdataset(filesV, chunks={'x':700,'y':1000,'time_counter':1,'depthv':1})\n",
    "    u=dsU.vozocrtx[:,:,424:3286,3858:5076]\n",
    "    v=dsV.vomecrty[:,:,424:3286,3858:5076]\n",
    "    mask=dsmask.tmask[0,:,424:3286,3858:5076]\n",
    "    u2=u*u\n",
    "    v2=v*v\n",
    "    u2mean=u2.mean(dim='time_counter')\n",
    "    v2mean=v2.mean(dim='time_counter')\n",
    "    eke=compute_EKE(u,v,u2mean,v2mean)\n",
    "    plot_monthly(10000*eke[0],mask[0],0,2500,'cmo.amp','Surface EKE','eke_surf')\n"
   ]
  },
  {
   "cell_type": "code",
   "execution_count": null,
   "metadata": {},
   "outputs": [],
   "source": [
    "if plot_eke_12_month==True:\n",
    "    filesU=sorted(glob.glob(datadir+'/*/'+str(config)+'-'+str(case)+'_y????m??d??.'+str(freq)+'_gridU.nc'))\n",
    "    filesV=sorted(glob.glob(datadir+'/*/'+str(config)+'-'+str(case)+'_y????m??d??.'+str(freq)+'_gridV.nc'))\n",
    "    dsU=xr.open_mfdataset(filesU, chunks={'x':700,'y':1000,'time_counter':1,'depthu':1})\n",
    "    dsV=xr.open_mfdataset(filesV, chunks={'x':700,'y':1000,'time_counter':1,'depthv':1})\n",
    "    u=dsU.vozocrtx[:,:,424:3286,3858:5076]\n",
    "    v=dsV.vomecrty[:,:,424:3286,3858:5076]\n",
    "    mask=dsmask.tmask[0,:,424:3286,3858:5076]\n",
    "    u2=u*u\n",
    "    v2=v*v\n",
    "    u2mean=u2.mean(dim='time_counter')\n",
    "    v2mean=v2.mean(dim='time_counter')\n",
    "    eke=compute_EKE(u,v,u2mean,v2mean)\n",
    "    for m in np.arange(8,13):\n",
    "        plot_one_month(10000*eke[0],mask[0],0,2500,'cmo.amp','Surface EKE','eke_surf',m)\n",
    "   "
   ]
  },
  {
   "cell_type": "code",
   "execution_count": null,
   "metadata": {},
   "outputs": [],
   "source": []
  }
 ],
 "metadata": {
  "kernelspec": {
   "display_name": "Python 3",
   "language": "python",
   "name": "python3"
  },
  "language_info": {
   "codemirror_mode": {
    "name": "ipython",
    "version": 3
   },
   "file_extension": ".py",
   "mimetype": "text/x-python",
   "name": "python",
   "nbconvert_exporter": "python",
   "pygments_lexer": "ipython3",
   "version": "3.7.3"
  }
 },
 "nbformat": 4,
 "nbformat_minor": 1
}
