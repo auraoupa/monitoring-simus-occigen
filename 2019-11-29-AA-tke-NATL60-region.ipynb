{
 "cells": [
  {
   "cell_type": "code",
   "execution_count": 1,
   "metadata": {},
   "outputs": [
    {
     "name": "stderr",
     "output_type": "stream",
     "text": [
      "/scratch/cnt0024/hmg2840/albert7a/anaconda3/lib/python3.7/site-packages/dask/config.py:168: YAMLLoadWarning: calling yaml.load() without Loader=... is deprecated, as the default Loader is unsafe. Please read https://msg.pyyaml.org/load for full details.\n",
      "  data = yaml.load(f.read()) or {}\n",
      "/scratch/cnt0024/hmg2840/albert7a/anaconda3/lib/python3.7/site-packages/distributed/bokeh/core.py:74: UserWarning: \n",
      "Failed to start diagnostics server on port 8787. [Errno 13] Permission denied\n",
      "  warnings.warn(\"\\n\" + msg)\n"
     ]
    },
    {
     "data": {
      "application/vnd.jupyter.widget-view+json": {
       "model_id": "1131405d301243e2bfe0042fda147811",
       "version_major": 2,
       "version_minor": 0
      },
      "text/plain": [
       "VBox(children=(HTML(value='<h2>SLURMCluster</h2>'), HBox(children=(HTML(value='\\n<div>\\n  <style scoped>\\n    …"
      ]
     },
     "metadata": {},
     "output_type": "display_data"
    }
   ],
   "source": [
    "from dask_jobqueue import SLURMCluster \n",
    "from dask.distributed import Client \n",
    "  \n",
    "cluster = SLURMCluster(cores=28,name='make_profiles',walltime='00:30:00',job_extra=['--constraint=HSW24','--exclusive','--nodes=1'],memory='120GB',interface='ib0') \n",
    "cluster.scale(168)\n",
    "cluster"
   ]
  },
  {
   "cell_type": "code",
   "execution_count": 2,
   "metadata": {},
   "outputs": [
    {
     "data": {
      "text/html": [
       "<table style=\"border: 2px solid white;\">\n",
       "<tr>\n",
       "<td style=\"vertical-align: top; border: 0px solid white\">\n",
       "<h3>Client</h3>\n",
       "<ul>\n",
       "  <li><b>Scheduler: </b>tcp://172.30.100.4:44907\n",
       "  <li><b>Dashboard: </b><a href='http://172.30.100.4:36034/status' target='_blank'>http://172.30.100.4:36034/status</a>\n",
       "</ul>\n",
       "</td>\n",
       "<td style=\"vertical-align: top; border: 0px solid white\">\n",
       "<h3>Cluster</h3>\n",
       "<ul>\n",
       "  <li><b>Workers: </b>0</li>\n",
       "  <li><b>Cores: </b>0</li>\n",
       "  <li><b>Memory: </b>0 B</li>\n",
       "</ul>\n",
       "</td>\n",
       "</tr>\n",
       "</table>"
      ],
      "text/plain": [
       "<Client: scheduler='tcp://172.30.100.4:44907' processes=0 cores=0>"
      ]
     },
     "execution_count": 2,
     "metadata": {},
     "output_type": "execute_result"
    }
   ],
   "source": [
    "from dask.distributed import Client\n",
    "client = Client(cluster)\n",
    "client"
   ]
  },
  {
   "cell_type": "code",
   "execution_count": 3,
   "metadata": {},
   "outputs": [
    {
     "name": "stdout",
     "output_type": "stream",
     "text": [
      "             JOBID PARTITION     NAME     USER ST       TIME  NODES NODELIST(REASON)\r\n",
      "           8251700     hsw24 make_pro albert7a  R       0:00      1 n2067\r\n",
      "           8251701     hsw24 make_pro albert7a  R       0:00      1 n2068\r\n",
      "           8251702     hsw24 make_pro albert7a  R       0:00      1 n2069\r\n",
      "           8251703     hsw24 make_pro albert7a  R       0:00      1 n2070\r\n",
      "           8251704     hsw24 make_pro albert7a  R       0:00      1 n2071\r\n",
      "           8251705     hsw24 make_pro albert7a  R       0:00      1 n2072\r\n",
      "           8251698     hsw24 make_pro albert7a  R       0:14      1 n2065\r\n",
      "           8251699     hsw24 make_pro albert7a  R       0:14      1 n2066\r\n",
      "           8251695     hsw24 make_pro albert7a  R       0:17      1 n2062\r\n",
      "           8251696     hsw24 make_pro albert7a  R       0:17      1 n2063\r\n",
      "           8251697     hsw24 make_pro albert7a  R       0:17      1 n2064\r\n"
     ]
    }
   ],
   "source": [
    "!squeue -u albert7a"
   ]
  },
  {
   "cell_type": "code",
   "execution_count": 4,
   "metadata": {},
   "outputs": [
    {
     "name": "stdout",
     "output_type": "stream",
     "text": [
      "166\n"
     ]
    }
   ],
   "source": [
    "import time\n",
    "nb_workers = 0\n",
    "while True:\n",
    "    nb_workers = len(client.scheduler_info()[\"workers\"])\n",
    "    if nb_workers >= 2:\n",
    "        break\n",
    "    time.sleep(1)\n",
    "print(nb_workers)"
   ]
  },
  {
   "cell_type": "code",
   "execution_count": 5,
   "metadata": {},
   "outputs": [
    {
     "name": "stdout",
     "output_type": "stream",
     "text": [
      "             JOBID PARTITION     NAME     USER ST       TIME  NODES NODELIST(REASON)\r\n",
      "           8251700     hsw24 make_pro albert7a  R       0:11      1 n2067\r\n",
      "           8251701     hsw24 make_pro albert7a  R       0:11      1 n2068\r\n",
      "           8251702     hsw24 make_pro albert7a  R       0:11      1 n2069\r\n",
      "           8251703     hsw24 make_pro albert7a  R       0:11      1 n2070\r\n",
      "           8251704     hsw24 make_pro albert7a  R       0:11      1 n2071\r\n",
      "           8251705     hsw24 make_pro albert7a  R       0:11      1 n2072\r\n",
      "           8251698     hsw24 make_pro albert7a  R       0:25      1 n2065\r\n",
      "           8251699     hsw24 make_pro albert7a  R       0:25      1 n2066\r\n",
      "           8251695     hsw24 make_pro albert7a  R       0:28      1 n2062\r\n",
      "           8251696     hsw24 make_pro albert7a  R       0:28      1 n2063\r\n",
      "           8251697     hsw24 make_pro albert7a  R       0:28      1 n2064\r\n"
     ]
    }
   ],
   "source": [
    "!squeue -u albert7a"
   ]
  },
  {
   "cell_type": "code",
   "execution_count": 6,
   "metadata": {},
   "outputs": [
    {
     "name": "stderr",
     "output_type": "stream",
     "text": [
      "/scratch/cnt0024/hmg2840/albert7a/anaconda3/lib/python3.7/site-packages/xarray/core/merge.py:16: FutureWarning: The Panel class is removed from pandas. Accessing it from the top-level namespace will also be removed in the next version\n",
      "  PANDAS_TYPES = (pd.Series, pd.DataFrame, pd.Panel)\n"
     ]
    }
   ],
   "source": [
    "import os\n",
    "import sys\n",
    "import numpy as np\n",
    "import numpy.ma as ma\n",
    "import xarray as xr\n",
    "import matplotlib.pyplot as plt\n",
    "import matplotlib.ticker as mticker\n",
    "import cartopy.crs as ccrs\n",
    "from cartopy.mpl.gridliner import LONGITUDE_FORMATTER, LATITUDE_FORMATTER\n",
    "import cartopy.feature as cfeature\n",
    "import cmocean\n",
    "import glob\n",
    "\n",
    "%matplotlib inline\n"
   ]
  },
  {
   "cell_type": "code",
   "execution_count": 7,
   "metadata": {},
   "outputs": [],
   "source": [
    "#params\n",
    "\n",
    "plot_eke_monthly=False\n",
    "plot_eke_annual=True\n",
    "\n",
    "region='EU'"
   ]
  },
  {
   "cell_type": "code",
   "execution_count": 8,
   "metadata": {},
   "outputs": [],
   "source": [
    "if region == 'EU':\n",
    "    imin=3858\n",
    "    imax=5076\n",
    "    jmin=424\n",
    "    jmax=3286\n",
    "    \n",
    "#cdffindij -w -80.418  -40.000   26.991   47.986 -c /store/molines/NATL60/NATL60-I/NATL60_coordinates_v4.nc\n",
    "if region == 'GS':\n",
    "    imin=63\n",
    "    imax=2507\n",
    "    jmin=29\n",
    "    jmax=1611"
   ]
  },
  {
   "cell_type": "code",
   "execution_count": 9,
   "metadata": {},
   "outputs": [],
   "source": [
    "config='NATL60'\n",
    "case='CJM165'\n",
    "freq='1d'\n",
    "#year='2010' #depends on the month\n",
    "\n",
    "datadir='/store/molines/'+str(config)+'/'+str(config)+'-'+str(case)+'-S/'+str(freq)+'/'\n",
    "#!ls $datadir\n",
    "gridfile='/store/molines/NATL60/NATL60-I/NATL60_coordinates_v4.nc'\n",
    "maskfile='/store/molines/NATL60/NATL60-I/NATL60_v4.1_cdf_byte_mask.nc'"
   ]
  },
  {
   "cell_type": "code",
   "execution_count": 10,
   "metadata": {},
   "outputs": [],
   "source": [
    "dsgrid=xr.open_dataset(gridfile)\n",
    "dsmask=xr.open_dataset(maskfile)"
   ]
  },
  {
   "cell_type": "code",
   "execution_count": 11,
   "metadata": {},
   "outputs": [],
   "source": [
    "def compute_TKE(u2mean,v2mean):\n",
    "    ua=0.5*(u2mean+u2mean.shift(x=1))\n",
    "    va=0.5*(v2mean+v2mean.shift(y=1))\n",
    "    uat=ua.rename({'depthu':'deptht'})\n",
    "    vat=va.rename({'depthv':'deptht'})\n",
    "    tke=0.5*(uat+vat)\n",
    "    return tke\n"
   ]
  },
  {
   "cell_type": "code",
   "execution_count": 12,
   "metadata": {},
   "outputs": [],
   "source": [
    "month_name={1:'January',2:'February',3:'March',4:'April',5:'May',6:'June',7:'July',8:'August',9:'September',10:'October',11:'November',12:'December'}\n",
    "def plot_one_month(var,mask,vmin,vmax,cmap,title,figfile,month,year):\n",
    "    if region == 'EU':\n",
    "        fig, ax = plt.subplots(1,1,figsize=(10,15))\n",
    "    if region == 'GS':\n",
    "        fig, ax = plt.subplots(1,1,figsize=(15,10))\n",
    "    var.where(mask==1).plot(cmap=cmap,ax=ax,vmin=vmin,vmax=vmax,add_labels=True)\n",
    "    ax.set_title(config+'-'+case+' '+month_name[month])\n",
    "    fig.suptitle('Monthly mean of '+str(title))\n",
    "    plt.savefig('Plots/'+config+'/Maps/'+region+'/'+config+'-'+case+'y'+str(year)+'m'+str(month)+'_'+figfile+'.png')"
   ]
  },
  {
   "cell_type": "code",
   "execution_count": 13,
   "metadata": {},
   "outputs": [],
   "source": [
    "def plot_year(var,mask,vmin,vmax,cmap,title,figfile,year):\n",
    "    if region == 'EU':\n",
    "        fig, ax = plt.subplots(1,1,figsize=(10,15))\n",
    "    if region == 'GS':\n",
    "        fig, ax = plt.subplots(1,1,figsize=(15,10))\n",
    "    var.where(mask==1).plot(cmap=cmap,ax=ax,vmin=vmin,vmax=vmax,add_labels=True)\n",
    "    ax.set_title(config+'-'+case+' '+year)\n",
    "    fig.suptitle('Monthly mean of '+str(title))\n",
    "    plt.savefig('Plots/'+config+'/Maps/'+region+'/'+config+'-'+case+'y'+str(year)+'_'+figfile+'.png')"
   ]
  },
  {
   "cell_type": "code",
   "execution_count": 14,
   "metadata": {},
   "outputs": [],
   "source": [
    "def plot_all_month(year):\n",
    "    filesU=sorted(glob.glob(datadir+'/*/'+str(config)+'-'+str(case)+'_y????m??d??.'+str(freq)+'_gridU.nc'))\n",
    "    filesV=sorted(glob.glob(datadir+'/*/'+str(config)+'-'+str(case)+'_y????m??d??.'+str(freq)+'_gridV.nc'))\n",
    "    dsU=xr.open_mfdataset(filesU, chunks={'x':700,'y':1000,'time_counter':10,'depthu':1})\n",
    "    dsV=xr.open_mfdataset(filesV, chunks={'x':700,'y':1000,'time_counter':10,'depthv':1})\n",
    "    if year == '2013':\n",
    "        u=dsU.sel(time_counter=slice('2013-01-01','2013-09-30')).vozocrtx[:,:,jmin:jmax,imin:imax]\n",
    "        v=dsV.sel(time_counter=slice('2013-01-01','2013-09-30')).vomecrty[:,:,jmin:jmax,imin:imax]\n",
    "    if year == '2012':\n",
    "        u=dsU.sel(time_counter=slice('2012-07-01','2012-12-31')).vozocrtx[:,:,jmin:jmax,imin:imax]\n",
    "        v=dsV.sel(time_counter=slice('2012-07-01','2012-12-31')).vomecrty[:,:,jmin:jmax,imin:imax]\n",
    "    mask=dsmask.tmask[0,:,jmin:jmax,imin:imax]\n",
    "    u2=u*u\n",
    "    v2=v*v\n",
    "    u2mean=u2.mean(dim='time_counter')\n",
    "    v2mean=v2.mean(dim='time_counter')\n",
    "    umonth=u.groupby('time_counter.month').mean('time_counter')\n",
    "    vmonth=v.groupby('time_counter.month').mean('time_counter')\n",
    "    umonth2=umonth*umonth\n",
    "    vmonth2=vmonth*vmonth\n",
    "    tke=compute_TKE(umonth2,vmonth2)\n",
    "    for m in np.arange(1,10):\n",
    "        if not os.path.exists('Plots/'+config+'/Maps/'+region+'/'+config+'-'+case+'y'+str(year)+'m'+str(m)+'_tke_surf.png'):\n",
    "            print('Plotting for month '+str(m))\n",
    "            plot_one_month(10000*tke[m-1,0],mask[0],0,2500,'cmo.amp','Surface TKE y'+year,'tke_surf',m,year)\n",
    " "
   ]
  },
  {
   "cell_type": "code",
   "execution_count": 15,
   "metadata": {},
   "outputs": [],
   "source": [
    "def process_plot_year():\n",
    "    filesU=sorted(glob.glob(datadir+'/*/'+str(config)+'-'+str(case)+'_y????m??d??.'+str(freq)+'_gridU.nc'))\n",
    "    filesV=sorted(glob.glob(datadir+'/*/'+str(config)+'-'+str(case)+'_y????m??d??.'+str(freq)+'_gridV.nc'))\n",
    "    dsU=xr.open_mfdataset(filesU, chunks={'x':700,'y':1000,'time_counter':10,'depthu':1})\n",
    "    dsV=xr.open_mfdataset(filesV, chunks={'x':700,'y':1000,'time_counter':10,'depthv':1})\n",
    "    u=dsU.sel(time_counter=slice('2012-10-01','2013-09-30')).vozocrtx[:,:,jmin:jmax,imin:imax]\n",
    "    v=dsV.sel(time_counter=slice('2012-10-01','2013-09-30')).vomecrty[:,:,jmin:jmax,imin:imax]\n",
    "    mask=dsmask.tmask[0,:,jmin:jmax,imin:imax]\n",
    "    u2=u*u\n",
    "    v2=v*v\n",
    "    u2mean=u2.mean(dim='time_counter')\n",
    "    v2mean=v2.mean(dim='time_counter')\n",
    "    umonth=u.groupby('time_counter.month').mean('time_counter')\n",
    "    vmonth=v.groupby('time_counter.month').mean('time_counter')\n",
    "    umonth2=umonth*umonth\n",
    "    vmonth2=vmonth*vmonth\n",
    "    tke=compute_TKE(umonth2,vmonth2)\n",
    "    if not os.path.exists('Plots/'+config+'/Maps/'+region+'/'+config+'-'+case+'y2012-2013_tke_surf.png'):\n",
    "        print('Plotting for year 2012-2013')\n",
    "        plot_year(10000*tke.mean(dim='month')[0],mask[0],0,2500,'cmo.amp','Surface TKE y2012-2013','tke_surf','2012-2013')\n",
    " "
   ]
  },
  {
   "cell_type": "code",
   "execution_count": 16,
   "metadata": {},
   "outputs": [],
   "source": [
    "if plot_eke_monthly == True:\n",
    "    for year in ['2013','2012']:\n",
    "        plot_all_month(year)\n"
   ]
  },
  {
   "cell_type": "code",
   "execution_count": null,
   "metadata": {},
   "outputs": [],
   "source": [
    "if plot_eke_annual == True:\n",
    "    process_plot_year()\n"
   ]
  },
  {
   "cell_type": "code",
   "execution_count": null,
   "metadata": {},
   "outputs": [],
   "source": []
  }
 ],
 "metadata": {
  "kernelspec": {
   "display_name": "Python 3",
   "language": "python",
   "name": "python3"
  },
  "language_info": {
   "codemirror_mode": {
    "name": "ipython",
    "version": 3
   },
   "file_extension": ".py",
   "mimetype": "text/x-python",
   "name": "python",
   "nbconvert_exporter": "python",
   "pygments_lexer": "ipython3",
   "version": "3.7.3"
  }
 },
 "nbformat": 4,
 "nbformat_minor": 1
}
