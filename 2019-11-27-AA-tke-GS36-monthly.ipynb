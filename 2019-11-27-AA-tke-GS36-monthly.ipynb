{
 "cells": [
  {
   "cell_type": "code",
   "execution_count": 1,
   "metadata": {},
   "outputs": [
    {
     "name": "stderr",
     "output_type": "stream",
     "text": [
      "/scratch/cnt0024/hmg2840/albert7a/anaconda3/lib/python3.7/site-packages/dask/config.py:168: YAMLLoadWarning: calling yaml.load() without Loader=... is deprecated, as the default Loader is unsafe. Please read https://msg.pyyaml.org/load for full details.\n",
      "  data = yaml.load(f.read()) or {}\n",
      "/scratch/cnt0024/hmg2840/albert7a/anaconda3/lib/python3.7/site-packages/distributed/bokeh/core.py:74: UserWarning: \n",
      "Failed to start diagnostics server on port 8787. [Errno 13] Permission denied\n",
      "  warnings.warn(\"\\n\" + msg)\n"
     ]
    },
    {
     "data": {
      "application/vnd.jupyter.widget-view+json": {
       "model_id": "423bbbf2a21f4233876c4618ddf0dbe4",
       "version_major": 2,
       "version_minor": 0
      },
      "text/plain": [
       "VBox(children=(HTML(value='<h2>SLURMCluster</h2>'), HBox(children=(HTML(value='\\n<div>\\n  <style scoped>\\n    …"
      ]
     },
     "metadata": {},
     "output_type": "display_data"
    }
   ],
   "source": [
    "from dask_jobqueue import SLURMCluster \n",
    "from dask.distributed import Client \n",
    "  \n",
    "cluster = SLURMCluster(cores=28,name='make_profiles',walltime='00:30:00',job_extra=['--constraint=HSW24','--exclusive','--nodes=1'],memory='120GB',interface='ib0') \n",
    "cluster.scale(196)\n",
    "cluster"
   ]
  },
  {
   "cell_type": "code",
   "execution_count": 2,
   "metadata": {},
   "outputs": [
    {
     "data": {
      "text/html": [
       "<table style=\"border: 2px solid white;\">\n",
       "<tr>\n",
       "<td style=\"vertical-align: top; border: 0px solid white\">\n",
       "<h3>Client</h3>\n",
       "<ul>\n",
       "  <li><b>Scheduler: </b>tcp://172.30.100.1:35614\n",
       "  <li><b>Dashboard: </b><a href='http://172.30.100.1:36304/status' target='_blank'>http://172.30.100.1:36304/status</a>\n",
       "</ul>\n",
       "</td>\n",
       "<td style=\"vertical-align: top; border: 0px solid white\">\n",
       "<h3>Cluster</h3>\n",
       "<ul>\n",
       "  <li><b>Workers: </b>0</li>\n",
       "  <li><b>Cores: </b>0</li>\n",
       "  <li><b>Memory: </b>0 B</li>\n",
       "</ul>\n",
       "</td>\n",
       "</tr>\n",
       "</table>"
      ],
      "text/plain": [
       "<Client: scheduler='tcp://172.30.100.1:35614' processes=0 cores=0>"
      ]
     },
     "execution_count": 2,
     "metadata": {},
     "output_type": "execute_result"
    }
   ],
   "source": [
    "from dask.distributed import Client\n",
    "client = Client(cluster)\n",
    "client"
   ]
  },
  {
   "cell_type": "code",
   "execution_count": 3,
   "metadata": {},
   "outputs": [
    {
     "name": "stdout",
     "output_type": "stream",
     "text": [
      "             JOBID PARTITION     NAME     USER ST       TIME  NODES NODELIST(REASON)\r\n",
      "           8204401     hsw24 make_pro albert7a PD       0:00      1 (Priority)\r\n",
      "           8204402     hsw24 make_pro albert7a PD       0:00      1 (Priority)\r\n",
      "           8204403     hsw24 make_pro albert7a PD       0:00      1 (Priority)\r\n",
      "           8204404     hsw24 make_pro albert7a PD       0:00      1 (Priority)\r\n",
      "           8204405     hsw24 make_pro albert7a PD       0:00      1 (Priority)\r\n",
      "           8204406     hsw24 make_pro albert7a PD       0:00      1 (Priority)\r\n",
      "           8204407     hsw24 make_pro albert7a PD       0:00      1 (Resources)\r\n",
      "           8204408     hsw24 make_pro albert7a PD       0:00      1 (Resources)\r\n",
      "           8204409     hsw24 make_pro albert7a PD       0:00      1 (Resources)\r\n",
      "           8204393     hsw24 make_pro albert7a PD       0:00      1 (Priority)\r\n",
      "           8204394     hsw24 make_pro albert7a PD       0:00      1 (Priority)\r\n",
      "           8204395     hsw24 make_pro albert7a PD       0:00      1 (Priority)\r\n",
      "           8204396     hsw24 make_pro albert7a PD       0:00      1 (Priority)\r\n",
      "           8204397     hsw24 make_pro albert7a PD       0:00      1 (Priority)\r\n",
      "           8204398     hsw24 make_pro albert7a PD       0:00      1 (Priority)\r\n",
      "           8204399     hsw24 make_pro albert7a PD       0:00      1 (Priority)\r\n",
      "           8204400     hsw24 make_pro albert7a PD       0:00      1 (Priority)\r\n",
      "           8204382     hsw24 make_pro albert7a PD       0:00      1 (Priority)\r\n",
      "           8204383     hsw24 make_pro albert7a PD       0:00      1 (Priority)\r\n",
      "           8204384     hsw24 make_pro albert7a PD       0:00      1 (Priority)\r\n",
      "           8204385     hsw24 make_pro albert7a PD       0:00      1 (Priority)\r\n",
      "           8204386     hsw24 make_pro albert7a PD       0:00      1 (Priority)\r\n",
      "           8204387     hsw24 make_pro albert7a PD       0:00      1 (Priority)\r\n",
      "           8204388     hsw24 make_pro albert7a PD       0:00      1 (Priority)\r\n",
      "           8204389     hsw24 make_pro albert7a PD       0:00      1 (Priority)\r\n",
      "           8204390     hsw24 make_pro albert7a PD       0:00      1 (Priority)\r\n",
      "           8204391     hsw24 make_pro albert7a PD       0:00      1 (Priority)\r\n",
      "           8204392     hsw24 make_pro albert7a PD       0:00      1 (Priority)\r\n",
      "           8204410     hsw24 make_pro albert7a PD       0:00      1 (Resources)\r\n",
      "           8204411     hsw24 make_pro albert7a PD       0:00      1 (Resources)\r\n",
      "           8204412     hsw24 make_pro albert7a PD       0:00      1 (Resources)\r\n",
      "           8204413     hsw24 make_pro albert7a PD       0:00      1 (Resources)\r\n",
      "           8204362     hsw24 make_pro albert7a  R       7:08      1 n2341\r\n",
      "           8204363     hsw24 make_pro albert7a  R       7:08      1 n2505\r\n",
      "           8204364     hsw24 make_pro albert7a  R       7:08      1 n2954\r\n",
      "           8204365     hsw24 make_pro albert7a  R       7:08      1 n2956\r\n",
      "           8204366     hsw24 make_pro albert7a  R       7:08      1 n2961\r\n"
     ]
    }
   ],
   "source": [
    "!squeue -u albert7a"
   ]
  },
  {
   "cell_type": "code",
   "execution_count": null,
   "metadata": {},
   "outputs": [],
   "source": [
    "import time\n",
    "nb_workers = 0\n",
    "while True:\n",
    "    nb_workers = len(client.scheduler_info()[\"workers\"])\n",
    "    if nb_workers >= 2:\n",
    "        break\n",
    "    time.sleep(1)\n",
    "print(nb_workers)"
   ]
  },
  {
   "cell_type": "code",
   "execution_count": null,
   "metadata": {},
   "outputs": [],
   "source": [
    "import os\n",
    "import sys\n",
    "import numpy as np\n",
    "import numpy.ma as ma\n",
    "import xarray as xr\n",
    "import matplotlib.pyplot as plt\n",
    "import matplotlib.ticker as mticker\n",
    "import cartopy.crs as ccrs\n",
    "from cartopy.mpl.gridliner import LONGITUDE_FORMATTER, LATITUDE_FORMATTER\n",
    "import cartopy.feature as cfeature\n",
    "import cmocean\n",
    "import glob\n",
    "\n",
    "%matplotlib inline\n"
   ]
  },
  {
   "cell_type": "code",
   "execution_count": null,
   "metadata": {},
   "outputs": [],
   "source": [
    "config='GS36'\n",
    "case='MPC002'\n",
    "freq='1d'\n",
    "year='2010'\n",
    "\n",
    "datadir='/scratch/cnt0024/hmg2840/colombo/'+str(config)+'/'+str(config)+'-'+str(case)+'-S/'+str(freq)+'/'+str(year)+'/'\n",
    "#!ls $datadir\n",
    "gridfile='/scratch/cnt0024/hmg2840/albert7a/GS36.L75/GS36.L75-I/GS36_coordinates.nc'\n",
    "maskfile='/scratch/cnt0024/hmg2840/albert7a/GS36.L75/GS36.L75-I/GS36.L75-MAA007_mesh_mask.nc'"
   ]
  },
  {
   "cell_type": "code",
   "execution_count": null,
   "metadata": {},
   "outputs": [],
   "source": [
    "dsgrid=xr.open_dataset(gridfile)\n",
    "dsmask=xr.open_dataset(maskfile)"
   ]
  },
  {
   "cell_type": "code",
   "execution_count": null,
   "metadata": {},
   "outputs": [],
   "source": [
    "def compute_TKE(u2mean,v2mean):\n",
    "    ua=0.5*(u2mean+u2mean.shift(x=1))\n",
    "    va=0.5*(v2mean+v2mean.shift(y=1))\n",
    "    uat=ua.rename({'depthu':'deptht'})\n",
    "    vat=va.rename({'depthv':'deptht'})\n",
    "    tke=0.5*(uat+vat)\n",
    "    return tke\n"
   ]
  },
  {
   "cell_type": "code",
   "execution_count": null,
   "metadata": {},
   "outputs": [],
   "source": [
    "month_name={1:'January',2:'February',3:'March',4:'April',5:'May',6:'June',7:'July',8:'August',9:'September',10:'October',11:'November',12:'December'}\n",
    "def plot_one_month(var,vmin,vmax,cmap,title,figfile,month,year):\n",
    "    fig, ax = plt.subplots(1,1,figsize=(15,10))\n",
    "    var.plot(cmap=cmap,ax=ax,vmin=vmin,vmax=vmax,add_labels=True)\n",
    "    ax.set_title(month_name[month])\n",
    "    fig.suptitle('Monthly mean of '+str(title))\n",
    "    plt.savefig('Plots/'+config+'/Maps/'+config+'-'+case+'y'+str(year)+'m'+str(month)+'_'+figfile+'.png')"
   ]
  },
  {
   "cell_type": "code",
   "execution_count": null,
   "metadata": {
    "scrolled": false
   },
   "outputs": [],
   "source": [
    "def process(year):\n",
    "    datadir='/scratch/cnt0024/hmg2840/colombo/'+str(config)+'/'+str(config)+'-'+str(case)+'-S/'+str(freq)+'/'+str(year)+'/'\n",
    "    filesU=sorted(glob.glob(datadir+'/'+str(config)+'-'+str(case)+'_y'+str(year)+'m??d??.'+str(freq)+'_gridU.nc'))\n",
    "    filesV=sorted(glob.glob(datadir+'/'+str(config)+'-'+str(case)+'_y'+str(year)+'m??d??.'+str(freq)+'_gridV.nc'))\n",
    "    dsU=xr.open_mfdataset(filesU, chunks={'x':700,'y':1000,'time_counter':10,'depthu':1})\n",
    "    dsV=xr.open_mfdataset(filesV, chunks={'x':700,'y':1000,'time_counter':10,'depthv':1})\n",
    "    u=dsU.vozocrtx\n",
    "    v=dsV.vomecrty\n",
    "    u2=u*u\n",
    "    v2=v*v\n",
    "    u2mean=u2.mean(dim='time_counter')\n",
    "    v2mean=v2.mean(dim='time_counter')\n",
    "    umonth=u.groupby('time_counter.month').mean('time_counter')\n",
    "    vmonth=v.groupby('time_counter.month').mean('time_counter')\n",
    "    umonth2=umonth*umonth\n",
    "    vmonth2=vmonth*vmonth\n",
    "    tke=compute_TKE(umonth2,vmonth2)\n",
    "    for m in np.arange(1,13):\n",
    "        if not os.path.exists('Plots/'+config+'/Maps/'+config+'-'+case+'y'+str(year)+'m'+str(m)+'_tke_surf.png'):\n",
    "            print('Plotting for month '+str(m))\n",
    "            plot_one_month(10000*tke[m-1,0],-0,2500,'cmo.amp','Surface TKE y'+year,'tke_surf',m,year)\n",
    "   "
   ]
  },
  {
   "cell_type": "code",
   "execution_count": null,
   "metadata": {},
   "outputs": [],
   "source": [
    "for year in ['2010','2011','2012']:\n",
    "    print(year)\n",
    "    process(year)"
   ]
  },
  {
   "cell_type": "code",
   "execution_count": null,
   "metadata": {},
   "outputs": [],
   "source": []
  }
 ],
 "metadata": {
  "kernelspec": {
   "display_name": "Python 3",
   "language": "python",
   "name": "python3"
  },
  "language_info": {
   "codemirror_mode": {
    "name": "ipython",
    "version": 3
   },
   "file_extension": ".py",
   "mimetype": "text/x-python",
   "name": "python",
   "nbconvert_exporter": "python",
   "pygments_lexer": "ipython3",
   "version": "3.7.3"
  }
 },
 "nbformat": 4,
 "nbformat_minor": 1
}
