{
 "cells": [
  {
   "cell_type": "code",
   "execution_count": 1,
   "metadata": {},
   "outputs": [
    {
     "name": "stderr",
     "output_type": "stream",
     "text": [
      "/scratch/cnt0024/hmg2840/albert7a/anaconda3/lib/python3.7/site-packages/dask/config.py:168: YAMLLoadWarning: calling yaml.load() without Loader=... is deprecated, as the default Loader is unsafe. Please read https://msg.pyyaml.org/load for full details.\n",
      "  data = yaml.load(f.read()) or {}\n",
      "/scratch/cnt0024/hmg2840/albert7a/anaconda3/lib/python3.7/site-packages/distributed/bokeh/core.py:74: UserWarning: \n",
      "Failed to start diagnostics server on port 8787. [Errno 13] Permission denied\n",
      "  warnings.warn(\"\\n\" + msg)\n"
     ]
    },
    {
     "data": {
      "application/vnd.jupyter.widget-view+json": {
       "model_id": "e336be63432a471c855f1079e71034d7",
       "version_major": 2,
       "version_minor": 0
      },
      "text/plain": [
       "VBox(children=(HTML(value='<h2>SLURMCluster</h2>'), HBox(children=(HTML(value='\\n<div>\\n  <style scoped>\\n    …"
      ]
     },
     "metadata": {},
     "output_type": "display_data"
    }
   ],
   "source": [
    "from dask_jobqueue import SLURMCluster \n",
    "from dask.distributed import Client \n",
    "  \n",
    "cluster = SLURMCluster(cores=28,name='make_profiles',walltime='00:30:00',job_extra=['--constraint=HSW24','--exclusive','--nodes=1'],memory='120GB',interface='ib0') \n",
    "cluster.scale(140)\n",
    "cluster"
   ]
  },
  {
   "cell_type": "code",
   "execution_count": 2,
   "metadata": {},
   "outputs": [
    {
     "data": {
      "text/html": [
       "<table style=\"border: 2px solid white;\">\n",
       "<tr>\n",
       "<td style=\"vertical-align: top; border: 0px solid white\">\n",
       "<h3>Client</h3>\n",
       "<ul>\n",
       "  <li><b>Scheduler: </b>tcp://172.30.100.1:37497\n",
       "  <li><b>Dashboard: </b><a href='http://172.30.100.1:46096/status' target='_blank'>http://172.30.100.1:46096/status</a>\n",
       "</ul>\n",
       "</td>\n",
       "<td style=\"vertical-align: top; border: 0px solid white\">\n",
       "<h3>Cluster</h3>\n",
       "<ul>\n",
       "  <li><b>Workers: </b>0</li>\n",
       "  <li><b>Cores: </b>0</li>\n",
       "  <li><b>Memory: </b>0 B</li>\n",
       "</ul>\n",
       "</td>\n",
       "</tr>\n",
       "</table>"
      ],
      "text/plain": [
       "<Client: scheduler='tcp://172.30.100.1:37497' processes=0 cores=0>"
      ]
     },
     "execution_count": 2,
     "metadata": {},
     "output_type": "execute_result"
    }
   ],
   "source": [
    "from dask.distributed import Client\n",
    "client = Client(cluster)\n",
    "client"
   ]
  },
  {
   "cell_type": "code",
   "execution_count": 3,
   "metadata": {},
   "outputs": [
    {
     "name": "stdout",
     "output_type": "stream",
     "text": [
      "             JOBID PARTITION     NAME     USER ST       TIME  NODES NODELIST(REASON)\r\n",
      "           8152699     hsw24 make_pro albert7a PD       0:00      1 (Resources)\r\n",
      "           8152700     hsw24 make_pro albert7a PD       0:00      1 (Priority)\r\n",
      "           8152701     hsw24 make_pro albert7a PD       0:00      1 (Priority)\r\n",
      "           8152702     hsw24 make_pro albert7a PD       0:00      1 (Priority)\r\n",
      "           8152703     hsw24 make_pro albert7a PD       0:00      1 (Priority)\r\n",
      "           8152431     hsw24 make_pro albert7a  R      17:58      1 n2160\r\n",
      "           8152432     hsw24 make_pro albert7a  R      17:58      1 n2829\r\n",
      "           8152433     hsw24 make_pro albert7a  R      17:58      1 n2831\r\n",
      "           8152434     hsw24 make_pro albert7a  R      17:58      1 n2832\r\n",
      "           8152435     hsw24 make_pro albert7a  R      17:58      1 n2833\r\n",
      "           8152436     hsw24 make_pro albert7a  R      17:58      1 n2835\r\n",
      "           8152437     hsw24 make_pro albert7a  R      17:58      1 n2209\r\n"
     ]
    }
   ],
   "source": [
    "!squeue -u albert7a"
   ]
  },
  {
   "cell_type": "code",
   "execution_count": 4,
   "metadata": {},
   "outputs": [
    {
     "name": "stdout",
     "output_type": "stream",
     "text": [
      "28\n"
     ]
    }
   ],
   "source": [
    "import time\n",
    "nb_workers = 0\n",
    "while True:\n",
    "    nb_workers = len(client.scheduler_info()[\"workers\"])\n",
    "    if nb_workers >= 2:\n",
    "        break\n",
    "    time.sleep(1)\n",
    "print(nb_workers)"
   ]
  },
  {
   "cell_type": "code",
   "execution_count": 5,
   "metadata": {},
   "outputs": [
    {
     "name": "stdout",
     "output_type": "stream",
     "text": [
      "             JOBID PARTITION     NAME     USER ST       TIME  NODES NODELIST(REASON)\r\n",
      "           8152700     hsw24 make_pro albert7a PD       0:00      1 (Priority)\r\n",
      "           8152701     hsw24 make_pro albert7a PD       0:00      1 (Priority)\r\n",
      "           8152702     hsw24 make_pro albert7a PD       0:00      1 (Priority)\r\n",
      "           8152703     hsw24 make_pro albert7a PD       0:00      1 (Priority)\r\n",
      "           8152431     hsw24 make_pro albert7a  R      19:06      1 n2160\r\n",
      "           8152432     hsw24 make_pro albert7a  R      19:06      1 n2829\r\n",
      "           8152433     hsw24 make_pro albert7a  R      19:06      1 n2831\r\n",
      "           8152434     hsw24 make_pro albert7a  R      19:06      1 n2832\r\n",
      "           8152435     hsw24 make_pro albert7a  R      19:06      1 n2833\r\n",
      "           8152436     hsw24 make_pro albert7a  R      19:06      1 n2835\r\n",
      "           8152437     hsw24 make_pro albert7a  R      19:06      1 n2209\r\n",
      "           8152699     hsw24 make_pro albert7a  R       0:53      1 n2897\r\n"
     ]
    }
   ],
   "source": [
    "!squeue -u albert7a"
   ]
  },
  {
   "cell_type": "code",
   "execution_count": 6,
   "metadata": {},
   "outputs": [
    {
     "name": "stderr",
     "output_type": "stream",
     "text": [
      "/scratch/cnt0024/hmg2840/albert7a/anaconda3/lib/python3.7/site-packages/xarray/core/merge.py:16: FutureWarning: The Panel class is removed from pandas. Accessing it from the top-level namespace will also be removed in the next version\n",
      "  PANDAS_TYPES = (pd.Series, pd.DataFrame, pd.Panel)\n"
     ]
    }
   ],
   "source": [
    "import sys\n",
    "import numpy as np\n",
    "import numpy.ma as ma\n",
    "import xarray as xr\n",
    "import matplotlib.pyplot as plt\n",
    "import matplotlib.ticker as mticker\n",
    "import cartopy.crs as ccrs\n",
    "from cartopy.mpl.gridliner import LONGITUDE_FORMATTER, LATITUDE_FORMATTER\n",
    "import cartopy.feature as cfeature\n",
    "import cmocean\n",
    "import glob\n",
    "\n",
    "%matplotlib inline\n"
   ]
  },
  {
   "cell_type": "code",
   "execution_count": 7,
   "metadata": {},
   "outputs": [],
   "source": [
    "#params\n",
    "\n",
    "plot_eke_monthly=False\n",
    "plot_eke_12_month=True\n",
    "plot_eke_annual=False\n"
   ]
  },
  {
   "cell_type": "code",
   "execution_count": 8,
   "metadata": {},
   "outputs": [],
   "source": [
    "config='NACHOS12.L75'\n",
    "case='MAA4001'\n",
    "freq='1d'\n",
    "year='2010'\n",
    "\n",
    "datadir='/scratch/cnt0024/hmg2840/albert7a/'+str(config)+'/'+str(config)+'-'+str(case)+'-S/'+str(freq)+'/'+str(year)+'/'\n",
    "#!ls $datadir\n",
    "gridfile='/scratch/cnt0024/hmg2840/albert7a/NACHOS12.L75/NACHOS12.L75-I/NACHOS12.L75_coordinates.nc'\n",
    "maskfile='/scratch/cnt0024/hmg2840/albert7a/NACHOS12.L75/NACHOS12.L75-I/NACHOS12.L75_MAA40_mesh_mask.nc'"
   ]
  },
  {
   "cell_type": "code",
   "execution_count": 9,
   "metadata": {},
   "outputs": [],
   "source": [
    "dsgrid=xr.open_dataset(gridfile)\n",
    "dsmask=xr.open_dataset(maskfile)"
   ]
  },
  {
   "cell_type": "code",
   "execution_count": 10,
   "metadata": {},
   "outputs": [],
   "source": [
    "def compute_EKE(u2,v2,u2mean,v2mean):\n",
    "    ua=0.5*((-1*u2+u2mean)+(-1*u2.shift(x=1)+u2mean.shift(x=1)))\n",
    "    va=0.5*((-1*v2+v2mean)+(-1*v2.shift(y=1)+v2mean.shift(y=1)))\n",
    "    uat=ua.rename({'depthu':'deptht'})\n",
    "    vat=va.rename({'depthv':'deptht'})\n",
    "    eke=0.5*(uat+vat)\n",
    "    return eke\n"
   ]
  },
  {
   "cell_type": "code",
   "execution_count": 16,
   "metadata": {},
   "outputs": [],
   "source": [
    "month_name={1:'January',2:'February',3:'March',4:'April',5:'May',6:'June',7:'July',8:'August',9:'September',10:'October',11:'November',12:'December'}\n",
    "def plot_one_month(var,mask,vmin,vmax,cmap,title,figfile,month,year):\n",
    "    fig, ax = plt.subplots(1,1,figsize=(10,15))\n",
    "    var.where(mask==1).plot(cmap=cmap,ax=ax,vmin=vmin,vmax=vmax,add_labels=True)\n",
    "    ax.set_title(month_name[month])\n",
    "    fig.suptitle('Monthly mean of '+str(title))\n",
    "    plt.savefig('Plots/'+config+'/Maps/EU/'+config+'-'+case+'y'+str(year)+'m'+str(month)+'_'+figfile+'.png')"
   ]
  },
  {
   "cell_type": "code",
   "execution_count": null,
   "metadata": {},
   "outputs": [],
   "source": [
    "filesU=sorted(glob.glob(datadir+'/'+str(config)+'-'+str(case)+'_y'+str(year)+'m??d??.'+str(freq)+'_gridU.nc'))\n",
    "filesV=sorted(glob.glob(datadir+'/'+str(config)+'-'+str(case)+'_y'+str(year)+'m??d??.'+str(freq)+'_gridV.nc'))\n",
    "dsU=xr.open_mfdataset(filesU, chunks={'x':700,'y':1000,'time_counter':10,'depthu':1})\n",
    "dsV=xr.open_mfdataset(filesV, chunks={'x':700,'y':1000,'time_counter':10,'depthv':1})\n",
    "u=dsU.vozocrtx[:,:,651:1224,970:1213]\n",
    "v=dsV.vomecrty[:,:,651:1224,970:1213]\n",
    "mask=dsmask.tmask[0,:,651:1224,970:1213]\n",
    "u2=u*u\n",
    "v2=v*v\n",
    "u2mean=u2.mean(dim='time_counter')\n",
    "v2mean=v2.mean(dim='time_counter')\n",
    "umonth=u.groupby('time_counter.month').mean('time_counter')\n",
    "vmonth=v.groupby('time_counter.month').mean('time_counter')\n",
    "umonth2=umonth*umonth\n",
    "vmonth2=vmonth*vmonth\n",
    "umonth2mean=umonth2.mean(dim='month')\n",
    "vmonth2mean=vmonth2.mean(dim='month')\n",
    "eke=compute_EKE(umonth2,vmonth2,umonth2mean,vmonth2mean)\n",
    "for m in np.arange(1,13):\n",
    "    print('Plotting for month '+str(m))\n",
    "    plot_one_month(10000*eke[m-1,0],mask[0],-2500,2500,'cmo.balance','Surface EKE y'+year,'eke_surf',m,year)\n",
    "   "
   ]
  },
  {
   "cell_type": "code",
   "execution_count": null,
   "metadata": {},
   "outputs": [],
   "source": []
  }
 ],
 "metadata": {
  "kernelspec": {
   "display_name": "Python 3",
   "language": "python",
   "name": "python3"
  },
  "language_info": {
   "codemirror_mode": {
    "name": "ipython",
    "version": 3
   },
   "file_extension": ".py",
   "mimetype": "text/x-python",
   "name": "python",
   "nbconvert_exporter": "python",
   "pygments_lexer": "ipython3",
   "version": "3.7.3"
  }
 },
 "nbformat": 4,
 "nbformat_minor": 1
}
